{
  "nbformat": 4,
  "nbformat_minor": 0,
  "metadata": {
    "colab": {
      "provenance": [],
      "toc_visible": true,
      "authorship_tag": "ABX9TyMpMRfiMoUJzLSa6KrFq32e",
      "include_colab_link": true
    },
    "kernelspec": {
      "name": "python3",
      "display_name": "Python 3"
    },
    "language_info": {
      "name": "python"
    }
  },
  "cells": [
    {
      "cell_type": "markdown",
      "metadata": {
        "id": "view-in-github",
        "colab_type": "text"
      },
      "source": [
        "<a href=\"https://colab.research.google.com/github/PosgradoMNA/actividades-del-proyecto-equipo-43/blob/main/EjerciciosMods1and2_A01793468.ipynb\" target=\"_parent\"><img src=\"https://colab.research.google.com/assets/colab-badge.svg\" alt=\"Open In Colab\"/></a>"
      ]
    },
    {
      "cell_type": "markdown",
      "source": [
        "# **EJERCICIOS MÓDULO 1**"
      ],
      "metadata": {
        "id": "w3OIXsnt1we3"
      }
    },
    {
      "cell_type": "code",
      "execution_count": 43,
      "metadata": {
        "colab": {
          "base_uri": "https://localhost:8080/"
        },
        "id": "1GXr01UVZtM5",
        "outputId": "e335185a-ddf5-491b-cbc1-14594531b92d"
      },
      "outputs": [
        {
          "output_type": "stream",
          "name": "stdout",
          "text": [
            "Hello World\n",
            "Hello\n",
            "World!\n"
          ]
        }
      ],
      "source": [
        "#Print Hello World\n",
        "print(\"Hello World\")\n",
        "\n",
        "print(\"Hello\\nWorld!\")"
      ]
    },
    {
      "cell_type": "code",
      "source": [
        "# Check the Python Version\n",
        "import sys\n",
        "print(sys.version)"
      ],
      "metadata": {
        "colab": {
          "base_uri": "https://localhost:8080/"
        },
        "id": "7uiN2HccpPCF",
        "outputId": "17df7ca3-e367-4e67-d15f-542e674a6395"
      },
      "execution_count": 44,
      "outputs": [
        {
          "output_type": "stream",
          "name": "stdout",
          "text": [
            "3.7.14 (default, Sep  8 2022, 00:06:44) \n",
            "[GCC 7.5.0]\n"
          ]
        }
      ]
    },
    {
      "cell_type": "code",
      "source": [
        "# What is the type of 12.0?\n",
        "type(12.0)"
      ],
      "metadata": {
        "colab": {
          "base_uri": "https://localhost:8080/"
        },
        "id": "3QGkIM6Rpppc",
        "outputId": "2bdb8449-f776-4850-fda7-6fa96be5f83f"
      },
      "execution_count": 45,
      "outputs": [
        {
          "output_type": "execute_result",
          "data": {
            "text/plain": [
              "float"
            ]
          },
          "metadata": {},
          "execution_count": 45
        }
      ]
    },
    {
      "cell_type": "code",
      "source": [
        "#What is the data type of the result of: 6 / 2? and 6//2?\n",
        "print (type(6/2))\n",
        "print (type (6//2))\n"
      ],
      "metadata": {
        "colab": {
          "base_uri": "https://localhost:8080/"
        },
        "id": "2htK9XIVqLYC",
        "outputId": "64688876-924e-41f6-ba7d-8d54e5dc76dd"
      },
      "execution_count": 46,
      "outputs": [
        {
          "output_type": "stream",
          "name": "stdout",
          "text": [
            "<class 'float'>\n",
            "<class 'int'>\n"
          ]
        }
      ]
    },
    {
      "cell_type": "code",
      "source": [
        "#Let's write an expression that calculates how many hours there are in 160 minutes:\n",
        "160/60\n",
        "160//60"
      ],
      "metadata": {
        "colab": {
          "base_uri": "https://localhost:8080/"
        },
        "id": "vQ6Vf0-prF6v",
        "outputId": "177fb252-a375-4bc1-d2fe-125a97d5b485"
      },
      "execution_count": 47,
      "outputs": [
        {
          "output_type": "execute_result",
          "data": {
            "text/plain": [
              "2"
            ]
          },
          "metadata": {},
          "execution_count": 47
        }
      ]
    },
    {
      "cell_type": "code",
      "source": [
        "#What is the value of x where x = 3 + 2 * 2\n",
        "x = 3+2*2\n",
        "print(x)\n",
        "\n",
        "#What is the value of y where y = (3 + 2) * 2?\n",
        "y = (3+2)*2\n",
        "print(y)\n",
        "\n",
        "#What is the value of z where z = x + y?\n",
        "z = x+y\n",
        "print(z)"
      ],
      "metadata": {
        "id": "pfDmMIqIrrGx",
        "outputId": "ef89e850-fcaa-493e-c676-8d45cefd7f6e",
        "colab": {
          "base_uri": "https://localhost:8080/"
        }
      },
      "execution_count": 48,
      "outputs": [
        {
          "output_type": "stream",
          "name": "stdout",
          "text": [
            "7\n",
            "10\n",
            "17\n"
          ]
        }
      ]
    },
    {
      "cell_type": "code",
      "source": [
        "\"0123456\".find('1')"
      ],
      "metadata": {
        "id": "gIND3VKUyCRM",
        "outputId": "8f761273-2f75-4d5d-e5c0-d698cee4f947",
        "colab": {
          "base_uri": "https://localhost:8080/"
        }
      },
      "execution_count": 49,
      "outputs": [
        {
          "output_type": "execute_result",
          "data": {
            "text/plain": [
              "1"
            ]
          },
          "metadata": {},
          "execution_count": 49
        }
      ]
    },
    {
      "cell_type": "code",
      "source": [
        "name = \"Michael Jackson\"\n",
        "print(name[0])\n",
        "name[::2]\n",
        "name[::1]\n",
        "name[::3]\n",
        "name[0:5:2]"
      ],
      "metadata": {
        "id": "9qVcqmA7yaLb",
        "outputId": "7f5a6e57-2e73-4b6f-e91d-eeb639e20649",
        "colab": {
          "base_uri": "https://localhost:8080/",
          "height": 53
        }
      },
      "execution_count": 50,
      "outputs": [
        {
          "output_type": "stream",
          "name": "stdout",
          "text": [
            "M\n"
          ]
        },
        {
          "output_type": "execute_result",
          "data": {
            "text/plain": [
              "'Mca'"
            ],
            "application/vnd.google.colaboratory.intrinsic+json": {
              "type": "string"
            }
          },
          "metadata": {},
          "execution_count": 50
        }
      ]
    },
    {
      "cell_type": "code",
      "source": [
        "# Quiz\n",
        "\n",
        "a = \"1\"\n",
        "b = \"2\"\n",
        "c = a + b\n",
        "print(c)\n",
        "\n",
        "#Print first three elements\n",
        "d = \"ABCDEFG\"\n",
        "print(d[0:3])\n",
        "\n",
        "#Use a stride value of 2 to print out every second character of the string e:\n",
        "e = 'clocrkr1e1c1t'\n",
        "print(e[::2])\n",
        "\n",
        "#Print out a backslash:\n",
        "print(r\"\\ \")\n",
        "\n",
        "#Convert the variable f to uppercase:\n",
        "f = \"You are wrong\"\n",
        "f.upper()\n",
        "\n",
        "# Write your code below and press Shift+Enter to execute\n",
        "\n",
        "g = \"Mary had a little lamb Little lamb, little lamb Mary had a little lamb \\\n",
        "Its fleece was white as snow And everywhere that Mary went Mary went, Mary went \\\n",
        "Everywhere that Mary went The lamb was sure to go\"\n",
        "g.find(\"snow\")\n",
        "g.replace(\"Mary\", \"Bob\")"
      ],
      "metadata": {
        "id": "gTLU2eIszZ8K",
        "outputId": "1ef7ac19-1838-4566-eb1b-68c3f9128ca5",
        "colab": {
          "base_uri": "https://localhost:8080/",
          "height": 122
        }
      },
      "execution_count": 51,
      "outputs": [
        {
          "output_type": "stream",
          "name": "stdout",
          "text": [
            "12\n",
            "ABC\n",
            "correct\n",
            "\\ \n"
          ]
        },
        {
          "output_type": "execute_result",
          "data": {
            "text/plain": [
              "'Bob had a little lamb Little lamb, little lamb Bob had a little lamb Its fleece was white as snow And everywhere that Bob went Bob went, Bob went Everywhere that Bob went The lamb was sure to go'"
            ],
            "application/vnd.google.colaboratory.intrinsic+json": {
              "type": "string"
            }
          },
          "metadata": {},
          "execution_count": 51
        }
      ]
    },
    {
      "cell_type": "code",
      "source": [
        "'1'+'2'"
      ],
      "metadata": {
        "id": "QJZNo6VB1bkO",
        "outputId": "7c39d537-ae92-40ae-dac1-a666ed97410c",
        "colab": {
          "base_uri": "https://localhost:8080/",
          "height": 35
        }
      },
      "execution_count": 52,
      "outputs": [
        {
          "output_type": "execute_result",
          "data": {
            "text/plain": [
              "'12'"
            ],
            "application/vnd.google.colaboratory.intrinsic+json": {
              "type": "string"
            }
          },
          "metadata": {},
          "execution_count": 52
        }
      ]
    },
    {
      "cell_type": "markdown",
      "source": [
        "# EJERCICIOS MÓDULO 2"
      ],
      "metadata": {
        "id": "2SpIKKJb2HPO"
      }
    },
    {
      "cell_type": "code",
      "source": [
        "#Create a tuple  (0,1,2,3)  and assign it to variable A:\n",
        "\n",
        "A = (0,1,2,3)\n",
        "print(A)\n",
        "\n",
        "A[0:2]"
      ],
      "metadata": {
        "id": "YGcFpegN_mZI",
        "outputId": "d413e507-9fef-43d8-c718-510561879c63",
        "colab": {
          "base_uri": "https://localhost:8080/"
        }
      },
      "execution_count": 54,
      "outputs": [
        {
          "output_type": "stream",
          "name": "stdout",
          "text": [
            "(0, 1, 2, 3)\n"
          ]
        },
        {
          "output_type": "execute_result",
          "data": {
            "text/plain": [
              "(0, 1)"
            ]
          },
          "metadata": {},
          "execution_count": 54
        }
      ]
    },
    {
      "cell_type": "code",
      "source": [
        "#For the next few questions, you will need the following list:\n",
        "B=[\"a\",\"b\",\"c\"]\n",
        "B[0:2]\n",
        "\n",
        "B[0] = \"A\"\n",
        "print(B)\n",
        "\n",
        "B[1:]"
      ],
      "metadata": {
        "id": "EKq6TtoG_6xg",
        "outputId": "860b19fc-830f-47d2-d505-9c9dc0a2c6c5",
        "colab": {
          "base_uri": "https://localhost:8080/"
        }
      },
      "execution_count": 59,
      "outputs": [
        {
          "output_type": "stream",
          "name": "stdout",
          "text": [
            "['A', 'b', 'c']\n"
          ]
        },
        {
          "output_type": "execute_result",
          "data": {
            "text/plain": [
              "['b', 'c']"
            ]
          },
          "metadata": {},
          "execution_count": 59
        }
      ]
    },
    {
      "cell_type": "code",
      "source": [
        "# sample tuple\n",
        "\n",
        "genres_tuple = (\"pop\", \"rock\", \"soul\", \"hard rock\", \"soft rock\", \\\n",
        "                \"R&B\", \"progressive rock\", \"disco\") \n",
        "genres_tuple\n",
        "\n",
        "#Find the length of the tuple, genres_tuple:\n",
        "print(len(genres_tuple))\n",
        "\n",
        "#Access the element, with respect to index 3:\n",
        "genres_tuple[3]\n",
        "\n",
        "#genres_tuple[3]\n",
        "genres_tuple[3:6]\n",
        "\n",
        "#Find the first two elements of the tuple genres_tuple:\n",
        "genres_tuple[:2]\n",
        "\n",
        "#Find the first index of \"disco\":\n",
        "genres_tuple.index(\"disco\")\n",
        "\n",
        "#Generate a sorted List from the Tuple C_tuple=(-5, 1, -3):\n",
        "C_tuple=(-5, 1, -3)\n",
        "CSort_tuple=sorted(C_tuple)\n",
        "print(CSort_tuple)"
      ],
      "metadata": {
        "id": "_VuiugmfDkv3",
        "outputId": "3ea448de-72ea-4a63-df40-d39cdc5bc309",
        "colab": {
          "base_uri": "https://localhost:8080/"
        }
      },
      "execution_count": 75,
      "outputs": [
        {
          "output_type": "stream",
          "name": "stdout",
          "text": [
            "8\n",
            "[-5, -3, 1]\n"
          ]
        }
      ]
    },
    {
      "cell_type": "code",
      "source": [
        "#Create a list a_list, with the following elements 1, hello, [1,2,3] and True.\n",
        "a_list = [1, 'hello', [1,2,3] , True]\n",
        "a_list\n",
        "\n",
        "#Find the value stored at index 1 of a_list.\n",
        "a_list[1]\n",
        "\n",
        "#Retrieve the elements stored at index 1, 2 and 3 of a_list.\n",
        "a_list[1:4]\n",
        "\n",
        "#Concatenate the following lists A = [1, 'a'] and B = [2, 1, 'd']:\n",
        "A = [1, 'a']\n",
        "B = [2, 1, 'd']\n",
        "A+B"
      ],
      "metadata": {
        "id": "ZEYRKnwOGR1Z",
        "outputId": "af513292-b9ea-483b-a11f-1f0a93a9f179",
        "colab": {
          "base_uri": "https://localhost:8080/"
        }
      },
      "execution_count": 81,
      "outputs": [
        {
          "output_type": "execute_result",
          "data": {
            "text/plain": [
              "[1, 'a', 2, 1, 'd']"
            ]
          },
          "metadata": {},
          "execution_count": 81
        }
      ]
    },
    {
      "cell_type": "code",
      "source": [
        "#Convert the list ['rap','house','electronic music', 'rap'] to a set:\n",
        "b_list = ['rap','house','electronic music', 'rap']\n",
        "s_list = set(b_list)\n",
        "s_list\n",
        "\n",
        "#Consider the list A = [1, 2, 2, 1] and set B = set([1, 2, 2, 1]), does sum(A) == sum(B)?\n",
        "A = [1, 2, 2, 1]  \n",
        "B = set([1, 2, 2, 1])\n",
        "print(\"sum A:\", sum(A))\n",
        "print(\"sum B:\", sum(B))\n",
        "\n",
        "#Create a new set album_set3 that is the union of album_set1 and album_set2:\n",
        "album_set1 = set([\"Thriller\", 'AC/DC', 'Back in Black'])\n",
        "album_set2 = set([ \"AC/DC\", \"Back in Black\", \"The Dark Side of the Moon\"])\n",
        "\n",
        "album_set3 = album_set1.union(album_set2)\n",
        "album_set3\n",
        "\n",
        "#Find out if album_set1 is a subset of album_set3:\n",
        "album_set1.issubset(album_set3)"
      ],
      "metadata": {
        "id": "3lIHRoYVIzbZ",
        "outputId": "6b463b60-b734-4705-d8a9-9ef3fdaf43ec",
        "colab": {
          "base_uri": "https://localhost:8080/"
        }
      },
      "execution_count": 86,
      "outputs": [
        {
          "output_type": "stream",
          "name": "stdout",
          "text": [
            "sum A: 6\n",
            "sum B: 3\n"
          ]
        },
        {
          "output_type": "execute_result",
          "data": {
            "text/plain": [
              "True"
            ]
          },
          "metadata": {},
          "execution_count": 86
        }
      ]
    },
    {
      "cell_type": "code",
      "source": [
        "#You will need the dictionary D:\n",
        "D={'a':0,'b':1,'c':2}\n",
        "\n",
        "#Find the value for the key 'a':\n",
        "D[\"a\"]\n",
        "\n",
        "#Find the keys of the dictionary D:\n",
        "D.keys()"
      ],
      "metadata": {
        "id": "Zfj79xk-KeCP",
        "outputId": "3d2bbcf6-0860-4cb8-c667-ec3085af8867",
        "colab": {
          "base_uri": "https://localhost:8080/"
        }
      },
      "execution_count": 94,
      "outputs": [
        {
          "output_type": "execute_result",
          "data": {
            "text/plain": [
              "dict_keys(['a', 'b', 'c'])"
            ]
          },
          "metadata": {},
          "execution_count": 94
        }
      ]
    },
    {
      "cell_type": "code",
      "source": [
        "# Question sample dictionary\n",
        "\n",
        "soundtrack_dic = {\"The Bodyguard\":\"1992\", \"Saturday Night Fever\":\"1977\"}\n",
        "soundtrack_dic \n",
        "\n",
        "#a) In the dictionary soundtrack_dic what are the keys ?\n",
        "soundtrack_dic.keys()\n",
        "\n",
        "#b) In the dictionary soundtrack_dic what are the values ?\n",
        "soundtrack_dic.values()\n",
        "\n",
        "#a) Create a dictionary album_sales_dict where the keys are the album name and the sales in millions are the values.\n",
        "album_sales_dict = {\"The Bodyguard\":50, \"Back in Black\":50, \"Thriller\":65}\n",
        "\n",
        "#b) Use the dictionary to find the total sales of Thriller:\n",
        "album_sales_dict[\"Thriller\"]\n",
        "\n",
        "#c) Find the names of the albums from the dictionary using the method keys():\n",
        "album_sales_dict.keys()\n",
        "\n",
        "#d) Find the values of the recording sales from the dictionary using the method values:\n",
        "album_sales_dict.values()"
      ],
      "metadata": {
        "id": "Wt-pdg2OLcZk",
        "outputId": "b36c67a4-96d7-4f51-b565-93c62964cc36",
        "colab": {
          "base_uri": "https://localhost:8080/"
        }
      },
      "execution_count": 96,
      "outputs": [
        {
          "output_type": "execute_result",
          "data": {
            "text/plain": [
              "dict_values([50, 50, 65])"
            ]
          },
          "metadata": {},
          "execution_count": 96
        }
      ]
    }
  ]
}