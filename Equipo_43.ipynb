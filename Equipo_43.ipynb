{
  "nbformat": 4,
  "nbformat_minor": 0,
  "metadata": {
    "colab": {
      "provenance": []
    },
    "kernelspec": {
      "name": "python3",
      "display_name": "Python 3"
    },
    "language_info": {
      "name": "python"
    }
  },
  "cells": [
    {
      "cell_type": "markdown",
      "source": [
        "# Equipo 43\n",
        "\n",
        "**Carlos Gustavo López Lerma**\n",
        "*A01793468*\n",
        "a01793468@tec.mx\n",
        "\n",
        "**Ignacio Valdés Reyes**\n",
        "*A01793262*\n",
        "a01793262@tec.mx"
      ],
      "metadata": {
        "id": "oXAsCyrD2yox"
      }
    },
    {
      "cell_type": "markdown",
      "source": [
        "## Instrucciones\n",
        "\n",
        "- El nombre que caracteriza el conjunto de datos.\n",
        "- La organización que lo generó.\n",
        "- Incluya un enlace de Internet donde se puedan descargar en línea y enviar como una hoja de cálculo junto con su informe correspondiente.\n",
        "- Describe el conjunto de datos. ¿Qué datos contiene?\n",
        "- ¿Cuáles son algunas de las preguntas de investigación que podría responder con estos datos? Enumere al menos OCHO (no responda las preguntas).\n",
        "- ¿Qué actor (empresa, sector de la sociedad, organismo descentralizado, gobierno, etc.) estaría interesado en las preguntas mencionadas que identificó?"
      ],
      "metadata": {
        "id": "1ron63xG2ile"
      }
    },
    {
      "cell_type": "markdown",
      "source": [
        "## World Development Indicators 2022\n",
        "\n",
        "Fuente: https://www.kaggle.com/datasets/psycon/world-development-indicators"
      ],
      "metadata": {
        "id": "3D8hG2jZ1Lp_"
      }
    },
    {
      "cell_type": "code",
      "source": [],
      "metadata": {
        "id": "l7_WOvYU1X6Y"
      },
      "execution_count": null,
      "outputs": []
    }
  ]
}