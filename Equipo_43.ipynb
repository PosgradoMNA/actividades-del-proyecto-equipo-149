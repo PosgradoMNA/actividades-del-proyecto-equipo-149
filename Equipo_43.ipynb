{
  "cells": [
    {
      "cell_type": "markdown",
      "metadata": {
        "id": "oXAsCyrD2yox"
      },
      "source": [
        "# Equipo 43\n",
        "\n",
        "**Carlos Gustavo López Lerma**\n",
        "*A01793468*\n",
        "a01793468@tec.mx\n",
        "\n",
        "**Ignacio Valdés Reyes**\n",
        "*A01793262*\n",
        "a01793262@tec.mx"
      ]
    },
    {
      "cell_type": "markdown",
      "metadata": {
        "id": "1ron63xG2ile"
      },
      "source": [
        "## Instrucciones\n",
        "\n",
        "- El nombre que caracteriza el conjunto de datos.\n",
        "- La organización que lo generó.\n",
        "- Incluya un enlace de Internet donde se puedan descargar en línea y enviar como una hoja de cálculo junto con su informe correspondiente.\n",
        "- Describe el conjunto de datos. ¿Qué datos contiene?\n",
        "- ¿Cuáles son algunas de las preguntas de investigación que podría responder con estos datos? Enumere al menos OCHO (no responda las preguntas).\n",
        "- ¿Qué actor (empresa, sector de la sociedad, organismo descentralizado, gobierno, etc.) estaría interesado en las preguntas mencionadas que identificó?"
      ]
    },
    {
      "cell_type": "markdown",
      "metadata": {
        "id": "3D8hG2jZ1Lp_"
      },
      "source": [
        "## World Development Indicators 2022\n",
        "\n",
        "- Fuente: https://www.kaggle.com/datasets/psycon/world-development-indicators\n",
        "- Conjunto de datos generado por Batucan Senkal, Data Scientist at Veloxity Inc.,el 15 de septiembre de 2022.\n",
        "- El conjunto de datos contiene los indicadores de desarrollo de 266 países entre los años 1960 y 2021, obtenidos de fuentes internacionales confiables y reconocidas.\n",
        "- Los indicadores globales de desarrollo permiten responder interrogantes de investigación tales como:\n",
        "\n",
        "1.   Para 2030, ¿cuál es el porcentaje proyectado, por país, de hombres y mujeres con al menos una cuenta en una institución financiera o proveedor de servicios de dinero móvil?\n",
        "2.   ¿Cuáles con los países con mayor variación positiva en la renta nacional neta per cápita en lo que va del siglo XXI, es decir, entre los años 2000 y 2021?\n",
        "3.   Respecto a la meta de disminución emisiones de dióxido de carbono ¿Cuáles son los países con mayores niveles de emisión de dióxido de carbono en agricultura a 2021 y cuáles han tenido la mayor variación postiva y negativa entre los años 2000 y 2021?\n",
        "4.   Para 2030, ¿cuál será la tasa de natalidad por país?\n",
        "5.   A 2021, ¿Cuáles son los países con mayor tasa de empleo infantil (edades de 7 a 14 años) en hombres y mujeres? ¿Cuáles han tenido la mayor variación positiva y negativa en este indicador entre 1960 y 2021?\n",
        "6.   A 2021, ¿Cuál es la balanza comercial, entendida esta como la relación exportaciones e importaciones comerciales?\n",
        "7.   ¿Cuáles son los países con mayores avances en nivel de estudios de sus habitantes en el periodo comprendido entre 2020 y 2021?\n",
        "8.   Para 2030, ¿Cuál será la tasa de empleo femenino por país?\n",
        "\n",
        "- Estas preguntas son de gran importancia para los gobiernos, ONGs e instuciones financieras a nivel mundial, ya que miden aspectos de desarrollo económico, social y ambiental de los países."
      ]
    },
    {
      "cell_type": "code",
      "execution_count": null,
      "metadata": {
        "id": "l7_WOvYU1X6Y"
      },
      "outputs": [],
      "source": []
    }
  ],
  "metadata": {
    "colab": {
      "provenance": []
    },
    "kernelspec": {
      "display_name": "Python 3",
      "name": "python3"
    },
    "language_info": {
      "name": "python"
    }
  },
  "nbformat": 4,
  "nbformat_minor": 0
}
