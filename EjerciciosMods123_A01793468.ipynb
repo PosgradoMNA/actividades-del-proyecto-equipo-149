{
  "nbformat": 4,
  "nbformat_minor": 0,
  "metadata": {
    "colab": {
      "provenance": [],
      "toc_visible": true,
      "authorship_tag": "ABX9TyMyGr7n7IS4QHRl161eYg7P",
      "include_colab_link": true
    },
    "kernelspec": {
      "name": "python3",
      "display_name": "Python 3"
    },
    "language_info": {
      "name": "python"
    }
  },
  "cells": [
    {
      "cell_type": "markdown",
      "metadata": {
        "id": "view-in-github",
        "colab_type": "text"
      },
      "source": [
        "<a href=\"https://colab.research.google.com/github/PosgradoMNA/actividades-del-proyecto-equipo-43/blob/main/EjerciciosMods123_A01793468.ipynb\" target=\"_parent\"><img src=\"https://colab.research.google.com/assets/colab-badge.svg\" alt=\"Open In Colab\"/></a>"
      ]
    },
    {
      "cell_type": "markdown",
      "source": [
        "CARLOS GUSTAVO LOPEZ\n",
        "A01793468"
      ],
      "metadata": {
        "id": "AA1cwnVxT8jc"
      }
    },
    {
      "cell_type": "markdown",
      "source": [
        "# **EJERCICIOS MÓDULO 1**"
      ],
      "metadata": {
        "id": "w3OIXsnt1we3"
      }
    },
    {
      "cell_type": "code",
      "execution_count": 43,
      "metadata": {
        "colab": {
          "base_uri": "https://localhost:8080/"
        },
        "id": "1GXr01UVZtM5",
        "outputId": "e335185a-ddf5-491b-cbc1-14594531b92d"
      },
      "outputs": [
        {
          "output_type": "stream",
          "name": "stdout",
          "text": [
            "Hello World\n",
            "Hello\n",
            "World!\n"
          ]
        }
      ],
      "source": [
        "#Print Hello World\n",
        "print(\"Hello World\")\n",
        "\n",
        "print(\"Hello\\nWorld!\")"
      ]
    },
    {
      "cell_type": "code",
      "source": [
        "# Check the Python Version\n",
        "import sys\n",
        "print(sys.version)"
      ],
      "metadata": {
        "colab": {
          "base_uri": "https://localhost:8080/"
        },
        "id": "7uiN2HccpPCF",
        "outputId": "17df7ca3-e367-4e67-d15f-542e674a6395"
      },
      "execution_count": 44,
      "outputs": [
        {
          "output_type": "stream",
          "name": "stdout",
          "text": [
            "3.7.14 (default, Sep  8 2022, 00:06:44) \n",
            "[GCC 7.5.0]\n"
          ]
        }
      ]
    },
    {
      "cell_type": "code",
      "source": [
        "# What is the type of 12.0?\n",
        "type(12.0)"
      ],
      "metadata": {
        "colab": {
          "base_uri": "https://localhost:8080/"
        },
        "id": "3QGkIM6Rpppc",
        "outputId": "2bdb8449-f776-4850-fda7-6fa96be5f83f"
      },
      "execution_count": 45,
      "outputs": [
        {
          "output_type": "execute_result",
          "data": {
            "text/plain": [
              "float"
            ]
          },
          "metadata": {},
          "execution_count": 45
        }
      ]
    },
    {
      "cell_type": "code",
      "source": [
        "#What is the data type of the result of: 6 / 2? and 6//2?\n",
        "print (type(6/2))\n",
        "print (type (6//2))\n"
      ],
      "metadata": {
        "colab": {
          "base_uri": "https://localhost:8080/"
        },
        "id": "2htK9XIVqLYC",
        "outputId": "64688876-924e-41f6-ba7d-8d54e5dc76dd"
      },
      "execution_count": 46,
      "outputs": [
        {
          "output_type": "stream",
          "name": "stdout",
          "text": [
            "<class 'float'>\n",
            "<class 'int'>\n"
          ]
        }
      ]
    },
    {
      "cell_type": "code",
      "source": [
        "#Let's write an expression that calculates how many hours there are in 160 minutes:\n",
        "160/60\n",
        "160//60"
      ],
      "metadata": {
        "colab": {
          "base_uri": "https://localhost:8080/"
        },
        "id": "vQ6Vf0-prF6v",
        "outputId": "177fb252-a375-4bc1-d2fe-125a97d5b485"
      },
      "execution_count": 47,
      "outputs": [
        {
          "output_type": "execute_result",
          "data": {
            "text/plain": [
              "2"
            ]
          },
          "metadata": {},
          "execution_count": 47
        }
      ]
    },
    {
      "cell_type": "code",
      "source": [
        "#What is the value of x where x = 3 + 2 * 2\n",
        "x = 3+2*2\n",
        "print(x)\n",
        "\n",
        "#What is the value of y where y = (3 + 2) * 2?\n",
        "y = (3+2)*2\n",
        "print(y)\n",
        "\n",
        "#What is the value of z where z = x + y?\n",
        "z = x+y\n",
        "print(z)"
      ],
      "metadata": {
        "colab": {
          "base_uri": "https://localhost:8080/"
        },
        "id": "pfDmMIqIrrGx",
        "outputId": "ef89e850-fcaa-493e-c676-8d45cefd7f6e"
      },
      "execution_count": 48,
      "outputs": [
        {
          "output_type": "stream",
          "name": "stdout",
          "text": [
            "7\n",
            "10\n",
            "17\n"
          ]
        }
      ]
    },
    {
      "cell_type": "code",
      "source": [
        "\"0123456\".find('1')"
      ],
      "metadata": {
        "colab": {
          "base_uri": "https://localhost:8080/"
        },
        "id": "gIND3VKUyCRM",
        "outputId": "8f761273-2f75-4d5d-e5c0-d698cee4f947"
      },
      "execution_count": 49,
      "outputs": [
        {
          "output_type": "execute_result",
          "data": {
            "text/plain": [
              "1"
            ]
          },
          "metadata": {},
          "execution_count": 49
        }
      ]
    },
    {
      "cell_type": "code",
      "source": [
        "name = \"Michael Jackson\"\n",
        "print(name[0])\n",
        "name[::2]\n",
        "name[::1]\n",
        "name[::3]\n",
        "name[0:5:2]"
      ],
      "metadata": {
        "colab": {
          "base_uri": "https://localhost:8080/",
          "height": 53
        },
        "id": "9qVcqmA7yaLb",
        "outputId": "7f5a6e57-2e73-4b6f-e91d-eeb639e20649"
      },
      "execution_count": 50,
      "outputs": [
        {
          "output_type": "stream",
          "name": "stdout",
          "text": [
            "M\n"
          ]
        },
        {
          "output_type": "execute_result",
          "data": {
            "text/plain": [
              "'Mca'"
            ],
            "application/vnd.google.colaboratory.intrinsic+json": {
              "type": "string"
            }
          },
          "metadata": {},
          "execution_count": 50
        }
      ]
    },
    {
      "cell_type": "code",
      "source": [
        "# Quiz\n",
        "\n",
        "a = \"1\"\n",
        "b = \"2\"\n",
        "c = a + b\n",
        "print(c)\n",
        "\n",
        "#Print first three elements\n",
        "d = \"ABCDEFG\"\n",
        "print(d[0:3])\n",
        "\n",
        "#Use a stride value of 2 to print out every second character of the string e:\n",
        "e = 'clocrkr1e1c1t'\n",
        "print(e[::2])\n",
        "\n",
        "#Print out a backslash:\n",
        "print(r\"\\ \")\n",
        "\n",
        "#Convert the variable f to uppercase:\n",
        "f = \"You are wrong\"\n",
        "f.upper()\n",
        "\n",
        "# Write your code below and press Shift+Enter to execute\n",
        "\n",
        "g = \"Mary had a little lamb Little lamb, little lamb Mary had a little lamb \\\n",
        "Its fleece was white as snow And everywhere that Mary went Mary went, Mary went \\\n",
        "Everywhere that Mary went The lamb was sure to go\"\n",
        "g.find(\"snow\")\n",
        "g.replace(\"Mary\", \"Bob\")"
      ],
      "metadata": {
        "colab": {
          "base_uri": "https://localhost:8080/",
          "height": 122
        },
        "id": "gTLU2eIszZ8K",
        "outputId": "1ef7ac19-1838-4566-eb1b-68c3f9128ca5"
      },
      "execution_count": 51,
      "outputs": [
        {
          "output_type": "stream",
          "name": "stdout",
          "text": [
            "12\n",
            "ABC\n",
            "correct\n",
            "\\ \n"
          ]
        },
        {
          "output_type": "execute_result",
          "data": {
            "text/plain": [
              "'Bob had a little lamb Little lamb, little lamb Bob had a little lamb Its fleece was white as snow And everywhere that Bob went Bob went, Bob went Everywhere that Bob went The lamb was sure to go'"
            ],
            "application/vnd.google.colaboratory.intrinsic+json": {
              "type": "string"
            }
          },
          "metadata": {},
          "execution_count": 51
        }
      ]
    },
    {
      "cell_type": "code",
      "source": [
        "'1'+'2'"
      ],
      "metadata": {
        "colab": {
          "base_uri": "https://localhost:8080/",
          "height": 35
        },
        "id": "QJZNo6VB1bkO",
        "outputId": "7c39d537-ae92-40ae-dac1-a666ed97410c"
      },
      "execution_count": 52,
      "outputs": [
        {
          "output_type": "execute_result",
          "data": {
            "text/plain": [
              "'12'"
            ],
            "application/vnd.google.colaboratory.intrinsic+json": {
              "type": "string"
            }
          },
          "metadata": {},
          "execution_count": 52
        }
      ]
    },
    {
      "cell_type": "markdown",
      "source": [
        "# EJERCICIOS MÓDULO 2"
      ],
      "metadata": {
        "id": "2SpIKKJb2HPO"
      }
    },
    {
      "cell_type": "code",
      "source": [
        "#Create a tuple  (0,1,2,3)  and assign it to variable A:\n",
        "\n",
        "A = (0,1,2,3)\n",
        "print(A)\n",
        "\n",
        "A[0:2]"
      ],
      "metadata": {
        "colab": {
          "base_uri": "https://localhost:8080/"
        },
        "id": "YGcFpegN_mZI",
        "outputId": "d413e507-9fef-43d8-c718-510561879c63"
      },
      "execution_count": 54,
      "outputs": [
        {
          "output_type": "stream",
          "name": "stdout",
          "text": [
            "(0, 1, 2, 3)\n"
          ]
        },
        {
          "output_type": "execute_result",
          "data": {
            "text/plain": [
              "(0, 1)"
            ]
          },
          "metadata": {},
          "execution_count": 54
        }
      ]
    },
    {
      "cell_type": "code",
      "source": [
        "#For the next few questions, you will need the following list:\n",
        "B=[\"a\",\"b\",\"c\"]\n",
        "B[0:2]\n",
        "\n",
        "B[0] = \"A\"\n",
        "print(B)\n",
        "\n",
        "B[1:]"
      ],
      "metadata": {
        "colab": {
          "base_uri": "https://localhost:8080/"
        },
        "id": "EKq6TtoG_6xg",
        "outputId": "860b19fc-830f-47d2-d505-9c9dc0a2c6c5"
      },
      "execution_count": 59,
      "outputs": [
        {
          "output_type": "stream",
          "name": "stdout",
          "text": [
            "['A', 'b', 'c']\n"
          ]
        },
        {
          "output_type": "execute_result",
          "data": {
            "text/plain": [
              "['b', 'c']"
            ]
          },
          "metadata": {},
          "execution_count": 59
        }
      ]
    },
    {
      "cell_type": "code",
      "source": [
        "# sample tuple\n",
        "\n",
        "genres_tuple = (\"pop\", \"rock\", \"soul\", \"hard rock\", \"soft rock\", \\\n",
        "                \"R&B\", \"progressive rock\", \"disco\") \n",
        "genres_tuple\n",
        "\n",
        "#Find the length of the tuple, genres_tuple:\n",
        "print(len(genres_tuple))\n",
        "\n",
        "#Access the element, with respect to index 3:\n",
        "genres_tuple[3]\n",
        "\n",
        "#genres_tuple[3]\n",
        "genres_tuple[3:6]\n",
        "\n",
        "#Find the first two elements of the tuple genres_tuple:\n",
        "genres_tuple[:2]\n",
        "\n",
        "#Find the first index of \"disco\":\n",
        "genres_tuple.index(\"disco\")\n",
        "\n",
        "#Generate a sorted List from the Tuple C_tuple=(-5, 1, -3):\n",
        "C_tuple=(-5, 1, -3)\n",
        "CSort_tuple=sorted(C_tuple)\n",
        "print(CSort_tuple)"
      ],
      "metadata": {
        "colab": {
          "base_uri": "https://localhost:8080/"
        },
        "id": "_VuiugmfDkv3",
        "outputId": "3ea448de-72ea-4a63-df40-d39cdc5bc309"
      },
      "execution_count": 75,
      "outputs": [
        {
          "output_type": "stream",
          "name": "stdout",
          "text": [
            "8\n",
            "[-5, -3, 1]\n"
          ]
        }
      ]
    },
    {
      "cell_type": "code",
      "source": [
        "#Create a list a_list, with the following elements 1, hello, [1,2,3] and True.\n",
        "a_list = [1, 'hello', [1,2,3] , True]\n",
        "a_list\n",
        "\n",
        "#Find the value stored at index 1 of a_list.\n",
        "a_list[1]\n",
        "\n",
        "#Retrieve the elements stored at index 1, 2 and 3 of a_list.\n",
        "a_list[1:4]\n",
        "\n",
        "#Concatenate the following lists A = [1, 'a'] and B = [2, 1, 'd']:\n",
        "A = [1, 'a']\n",
        "B = [2, 1, 'd']\n",
        "A+B"
      ],
      "metadata": {
        "colab": {
          "base_uri": "https://localhost:8080/"
        },
        "id": "ZEYRKnwOGR1Z",
        "outputId": "af513292-b9ea-483b-a11f-1f0a93a9f179"
      },
      "execution_count": 81,
      "outputs": [
        {
          "output_type": "execute_result",
          "data": {
            "text/plain": [
              "[1, 'a', 2, 1, 'd']"
            ]
          },
          "metadata": {},
          "execution_count": 81
        }
      ]
    },
    {
      "cell_type": "code",
      "source": [
        "#Convert the list ['rap','house','electronic music', 'rap'] to a set:\n",
        "b_list = ['rap','house','electronic music', 'rap']\n",
        "s_list = set(b_list)\n",
        "s_list\n",
        "\n",
        "#Consider the list A = [1, 2, 2, 1] and set B = set([1, 2, 2, 1]), does sum(A) == sum(B)?\n",
        "A = [1, 2, 2, 1]  \n",
        "B = set([1, 2, 2, 1])\n",
        "print(\"sum A:\", sum(A))\n",
        "print(\"sum B:\", sum(B))\n",
        "\n",
        "#Create a new set album_set3 that is the union of album_set1 and album_set2:\n",
        "album_set1 = set([\"Thriller\", 'AC/DC', 'Back in Black'])\n",
        "album_set2 = set([ \"AC/DC\", \"Back in Black\", \"The Dark Side of the Moon\"])\n",
        "\n",
        "album_set3 = album_set1.union(album_set2)\n",
        "album_set3\n",
        "\n",
        "#Find out if album_set1 is a subset of album_set3:\n",
        "album_set1.issubset(album_set3)"
      ],
      "metadata": {
        "colab": {
          "base_uri": "https://localhost:8080/"
        },
        "id": "3lIHRoYVIzbZ",
        "outputId": "6b463b60-b734-4705-d8a9-9ef3fdaf43ec"
      },
      "execution_count": 86,
      "outputs": [
        {
          "output_type": "stream",
          "name": "stdout",
          "text": [
            "sum A: 6\n",
            "sum B: 3\n"
          ]
        },
        {
          "output_type": "execute_result",
          "data": {
            "text/plain": [
              "True"
            ]
          },
          "metadata": {},
          "execution_count": 86
        }
      ]
    },
    {
      "cell_type": "code",
      "source": [
        "#You will need the dictionary D:\n",
        "D={'a':0,'b':1,'c':2}\n",
        "\n",
        "#Find the value for the key 'a':\n",
        "D[\"a\"]\n",
        "\n",
        "#Find the keys of the dictionary D:\n",
        "D.keys()"
      ],
      "metadata": {
        "colab": {
          "base_uri": "https://localhost:8080/"
        },
        "id": "Zfj79xk-KeCP",
        "outputId": "3d2bbcf6-0860-4cb8-c667-ec3085af8867"
      },
      "execution_count": 94,
      "outputs": [
        {
          "output_type": "execute_result",
          "data": {
            "text/plain": [
              "dict_keys(['a', 'b', 'c'])"
            ]
          },
          "metadata": {},
          "execution_count": 94
        }
      ]
    },
    {
      "cell_type": "code",
      "source": [
        "# Question sample dictionary\n",
        "\n",
        "soundtrack_dic = {\"The Bodyguard\":\"1992\", \"Saturday Night Fever\":\"1977\"}\n",
        "soundtrack_dic \n",
        "\n",
        "#a) In the dictionary soundtrack_dic what are the keys ?\n",
        "soundtrack_dic.keys()\n",
        "\n",
        "#b) In the dictionary soundtrack_dic what are the values ?\n",
        "soundtrack_dic.values()\n",
        "\n",
        "#a) Create a dictionary album_sales_dict where the keys are the album name and the sales in millions are the values.\n",
        "album_sales_dict = {\"The Bodyguard\":50, \"Back in Black\":50, \"Thriller\":65}\n",
        "\n",
        "#b) Use the dictionary to find the total sales of Thriller:\n",
        "album_sales_dict[\"Thriller\"]\n",
        "\n",
        "#c) Find the names of the albums from the dictionary using the method keys():\n",
        "album_sales_dict.keys()\n",
        "\n",
        "#d) Find the values of the recording sales from the dictionary using the method values:\n",
        "album_sales_dict.values()"
      ],
      "metadata": {
        "colab": {
          "base_uri": "https://localhost:8080/"
        },
        "id": "Wt-pdg2OLcZk",
        "outputId": "b36c67a4-96d7-4f51-b565-93c62964cc36"
      },
      "execution_count": 96,
      "outputs": [
        {
          "output_type": "execute_result",
          "data": {
            "text/plain": [
              "dict_values([50, 50, 65])"
            ]
          },
          "metadata": {},
          "execution_count": 96
        }
      ]
    },
    {
      "cell_type": "markdown",
      "source": [
        "# EJERCICIOS MÓDULO 3"
      ],
      "metadata": {
        "id": "X2MQKRHbNkCu"
      }
    },
    {
      "cell_type": "code",
      "source": [
        "#Find the value of x that prints the statement \"this is a\":\n",
        "\n",
        "x = 'a' \n",
        "if(x=='a'):\n",
        "    print(\"this is a\")\n",
        "else:\n",
        "      print(\"this is  not a\")\n",
        "  \n",
        "#Find the value of y that produces a True statement:\n",
        "y=9\n",
        "x=1\n",
        "x>0 and y<10"
      ],
      "metadata": {
        "id": "9z-ECGuFNtO5",
        "outputId": "50861c24-f2d6-4bd4-916f-06dcb20ac899",
        "colab": {
          "base_uri": "https://localhost:8080/"
        }
      },
      "execution_count": 100,
      "outputs": [
        {
          "output_type": "stream",
          "name": "stdout",
          "text": [
            "this is a\n"
          ]
        },
        {
          "output_type": "execute_result",
          "data": {
            "text/plain": [
              "True"
            ]
          },
          "metadata": {},
          "execution_count": 100
        }
      ]
    },
    {
      "cell_type": "code",
      "source": [
        "#Quiz on Conditions\n",
        "#Write an if statement to determine if an album had a rating greater than 8. Test it using the rating for the album “Back in Black” that had a rating of 8.5. If the statement is true print \"This album is Amazing!\"\n",
        "\n",
        "rating = 9\n",
        "if rating > 8:\n",
        "    print (\"This album is Amazing!\")\n",
        "\n",
        "#Write an if-else statement that performs the following. If the rating is larger then eight print “this album is amazing”. If the rating is less than or equal to 8 print “this album is ok”.\n",
        "rating = 7\n",
        "if rating > 8:\n",
        "    print (\"this album is amazing\")\n",
        "else:\n",
        "    print (\"this album is ok\")\n",
        "\n",
        "#Write an if statement to determine if an album came out before 1980 or in the years: 1991 or 1993. If the condition is true print out the year the album came out.\n",
        "album_year = 1993\n",
        "\n",
        "if album_year < 1980 or album_year == 1991 or album_year == 1993:\n",
        "    print(\"This album came out in year\", album_year)"
      ],
      "metadata": {
        "id": "Fno2IMKGP_h1",
        "outputId": "88522c7c-a1c1-41d1-9242-193e9d7f1ae4",
        "colab": {
          "base_uri": "https://localhost:8080/"
        }
      },
      "execution_count": 104,
      "outputs": [
        {
          "output_type": "stream",
          "name": "stdout",
          "text": [
            "This album is Amazing!\n",
            "this album is ok\n",
            "This album came out in year 1993\n"
          ]
        }
      ]
    },
    {
      "cell_type": "code",
      "source": [
        "#What is the output of the following lines of code:\n",
        "\n",
        "A=[3,4,5]\n",
        "\n",
        "for a in A:\n",
        "  print(a)"
      ],
      "metadata": {
        "id": "IFmSugdtSE8D",
        "outputId": "b10570fb-b123-484c-d212-3bb39568d66b",
        "colab": {
          "base_uri": "https://localhost:8080/"
        }
      },
      "execution_count": 107,
      "outputs": [
        {
          "output_type": "stream",
          "name": "stdout",
          "text": [
            "3\n",
            "4\n",
            "5\n"
          ]
        }
      ]
    },
    {
      "cell_type": "code",
      "source": [
        "#Quiz on Loops\n",
        "#Write a for loop the prints out all the element between -5 and 5 using the range function.\n",
        "for i in range(-5, 6):\n",
        "    print(i)\n",
        "\n",
        "#Print the elements of the following list: Genres=[ 'rock', 'R&B', 'Soundtrack', 'R&B', 'soul', 'pop'] Make sure you follow Python conventions.\n",
        "Genres = ['rock', 'R&B', 'Soundtrack', 'R&B', 'soul', 'pop']\n",
        "for i in Genres:\n",
        "    print(i)\n",
        "\n",
        "#Write a for loop that prints out the following list: squares=['red', 'yellow', 'green', 'purple', 'blue']\n",
        "squares=['red', 'yellow', 'green', 'purple', 'blue']\n",
        "for s in squares:\n",
        "    print(s)\n",
        "\n",
        "#Write a while loop to display the values of the Rating of an album playlist stored in the list PlayListRatings. If the score is less than 6, exit the loop. The list PlayListRatings is given by: PlayListRatings = [10, 9.5, 10, 8, 7.5, 5, 10, 10]\n",
        "PlayListRatings = [10, 9.5, 10, 8, 7.5, 5, 10, 10]\n",
        "i = 0\n",
        "Rating = PlayListRatings[0]\n",
        "while(i < len(PlayListRatings) and Rating >= 6):\n",
        "    print(Rating)\n",
        "    i = i + 1\n",
        "    Rating = PlayListRatings[i]\n",
        "    i = i + 1\n",
        "\n",
        "#Write a while loop to copy the strings 'orange' of the list squares to the list new_squares. Stop and exit the loop if the value on the list is not 'orange':\n",
        "squares = ['orange', 'orange', 'purple', 'blue ', 'orange']\n",
        "new_squares = []\n",
        "i = 0\n",
        "while(i < len(squares) and squares[i] == 'orange'):\n",
        "    new_squares.append(squares[i])\n",
        "    i = i + 1\n",
        "print (new_squares)"
      ],
      "metadata": {
        "id": "p0_jEK73SeY6",
        "outputId": "c29d92db-9afd-4557-8d90-9f692b38a2a7",
        "colab": {
          "base_uri": "https://localhost:8080/"
        }
      },
      "execution_count": 116,
      "outputs": [
        {
          "output_type": "stream",
          "name": "stdout",
          "text": [
            "-5\n",
            "-4\n",
            "-3\n",
            "-2\n",
            "-1\n",
            "0\n",
            "1\n",
            "2\n",
            "3\n",
            "4\n",
            "5\n",
            "rock\n",
            "R&B\n",
            "Soundtrack\n",
            "R&B\n",
            "soul\n",
            "pop\n",
            "red\n",
            "yellow\n",
            "green\n",
            "purple\n",
            "blue\n",
            "10\n",
            "9.5\n",
            "8\n",
            "['orange', 'orange']\n"
          ]
        }
      ]
    },
    {
      "cell_type": "code",
      "source": [
        "#What is the value of c after the following block of code is run with proper numerical input?\n",
        "def f(*x):\n",
        "  return sum(x)\n",
        "\n",
        "f(3)"
      ],
      "metadata": {
        "id": "MEyQe3-aVR1N",
        "outputId": "1deebd2d-c337-4efa-dc0c-4405bf9c1a17",
        "colab": {
          "base_uri": "https://localhost:8080/"
        }
      },
      "execution_count": 118,
      "outputs": [
        {
          "output_type": "execute_result",
          "data": {
            "text/plain": [
              "3"
            ]
          },
          "metadata": {},
          "execution_count": 118
        }
      ]
    },
    {
      "cell_type": "code",
      "source": [
        "#Quiz on Functions\n",
        "\n",
        "#Come up with a function that divides the first input by the second input:\n",
        "def div(a, b):\n",
        "    return(a/b)\n",
        "\n",
        "#Can the con function we defined before be used to add two integers or strings?\n",
        "def con(a, b):\n",
        "    return(a + b)\n",
        "\n",
        "con(['a', 1], ['b', 1])\n"
      ],
      "metadata": {
        "id": "wVLtfdSWWQ8K",
        "outputId": "d9c45f1a-7706-41df-dbee-284c3fcc09c7",
        "colab": {
          "base_uri": "https://localhost:8080/"
        }
      },
      "execution_count": 119,
      "outputs": [
        {
          "output_type": "execute_result",
          "data": {
            "text/plain": [
              "['a', 1, 'b', 1]"
            ]
          },
          "metadata": {},
          "execution_count": 119
        }
      ]
    },
    {
      "cell_type": "code",
      "source": [
        "A = ['1','2','3']\n",
        "\n",
        "for a in A:\n",
        "  print(2*a)"
      ],
      "metadata": {
        "id": "OWsD3KwAYmQv",
        "outputId": "f36a7ab0-0d38-4200-8d4a-c5e3d854feb9",
        "colab": {
          "base_uri": "https://localhost:8080/"
        }
      },
      "execution_count": 121,
      "outputs": [
        {
          "output_type": "stream",
          "name": "stdout",
          "text": [
            "11\n",
            "22\n",
            "33\n"
          ]
        }
      ]
    }
  ]
}