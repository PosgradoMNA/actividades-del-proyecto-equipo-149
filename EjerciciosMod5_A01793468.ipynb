{
  "nbformat": 4,
  "nbformat_minor": 0,
  "metadata": {
    "colab": {
      "provenance": [],
      "collapsed_sections": [],
      "authorship_tag": "ABX9TyP8sxpRVpMKunjLWXlmw/dY",
      "include_colab_link": true
    },
    "kernelspec": {
      "name": "python3",
      "display_name": "Python 3"
    },
    "language_info": {
      "name": "python"
    }
  },
  "cells": [
    {
      "cell_type": "markdown",
      "metadata": {
        "id": "view-in-github",
        "colab_type": "text"
      },
      "source": [
        "<a href=\"https://colab.research.google.com/github/PosgradoMNA/actividades-del-proyecto-equipo-149/blob/main/EjerciciosMod5_A01793468.ipynb\" target=\"_parent\"><img src=\"https://colab.research.google.com/assets/colab-badge.svg\" alt=\"Open In Colab\"/></a>"
      ]
    },
    {
      "cell_type": "markdown",
      "source": [
        "###**Python for Data Science**\n",
        "###**Ejercicios Módulo 5**\n",
        "\n",
        "###**Estudiante: CARLOS GUSTAVO LOPEZ**\n",
        "\n",
        "###**Matrícula: A01793468** "
      ],
      "metadata": {
        "id": "vWVufoRq1NpT"
      }
    },
    {
      "cell_type": "code",
      "execution_count": null,
      "metadata": {
        "id": "lp3qjvcn1LGk"
      },
      "outputs": [],
      "source": [
        "import numpy as np\n",
        "a=[1,2,3,4,5]"
      ]
    },
    {
      "cell_type": "code",
      "source": [
        "x = np.array(a)"
      ],
      "metadata": {
        "id": "H8GIzxLY6PpG"
      },
      "execution_count": null,
      "outputs": []
    },
    {
      "cell_type": "code",
      "source": [
        "type(x)"
      ],
      "metadata": {
        "colab": {
          "base_uri": "https://localhost:8080/"
        },
        "id": "x8Fn435t6WGD",
        "outputId": "925c555b-30f1-4249-c30f-505015d3ab1a"
      },
      "execution_count": null,
      "outputs": [
        {
          "output_type": "execute_result",
          "data": {
            "text/plain": [
              "numpy.ndarray"
            ]
          },
          "metadata": {},
          "execution_count": 3
        }
      ]
    },
    {
      "cell_type": "code",
      "source": [
        "x.shape"
      ],
      "metadata": {
        "colab": {
          "base_uri": "https://localhost:8080/"
        },
        "id": "_Wu0PQYX6c_0",
        "outputId": "3263a78a-3fba-418a-8ac6-0a1c460ab2c2"
      },
      "execution_count": null,
      "outputs": [
        {
          "output_type": "execute_result",
          "data": {
            "text/plain": [
              "(5,)"
            ]
          },
          "metadata": {},
          "execution_count": 4
        }
      ]
    },
    {
      "cell_type": "code",
      "source": [
        "x.mean()"
      ],
      "metadata": {
        "colab": {
          "base_uri": "https://localhost:8080/"
        },
        "id": "ljwCFt-16iOw",
        "outputId": "9c60d117-766d-4d21-a1bb-97f9d78b2d51"
      },
      "execution_count": null,
      "outputs": [
        {
          "output_type": "execute_result",
          "data": {
            "text/plain": [
              "3.0"
            ]
          },
          "metadata": {},
          "execution_count": 5
        }
      ]
    },
    {
      "cell_type": "code",
      "source": [
        "np.array([1,-1])*np.array([1,1])"
      ],
      "metadata": {
        "colab": {
          "base_uri": "https://localhost:8080/"
        },
        "id": "dm8U2Qan6qkK",
        "outputId": "0bd500f2-509f-455a-9896-22ddf4591217"
      },
      "execution_count": null,
      "outputs": [
        {
          "output_type": "execute_result",
          "data": {
            "text/plain": [
              "array([ 1, -1])"
            ]
          },
          "metadata": {},
          "execution_count": 6
        }
      ]
    },
    {
      "cell_type": "code",
      "source": [
        "np.dot(np.array([1,-1]),np.array([1,1]))"
      ],
      "metadata": {
        "colab": {
          "base_uri": "https://localhost:8080/"
        },
        "id": "zg_hq_x66yXk",
        "outputId": "02bba4a1-3583-431d-9de6-d3fd7ec3829e"
      },
      "execution_count": null,
      "outputs": [
        {
          "output_type": "execute_result",
          "data": {
            "text/plain": [
              "0"
            ]
          },
          "metadata": {},
          "execution_count": 7
        }
      ]
    },
    {
      "cell_type": "code",
      "source": [
        "#Check the type of the array and Value type for the given array c\n",
        "\n",
        "b = np.array([3.1, 11.02, 6.2, 213.2, 5.2])\n",
        "\n",
        "print(type(b))\n",
        "\n",
        "b.dtype"
      ],
      "metadata": {
        "colab": {
          "base_uri": "https://localhost:8080/"
        },
        "id": "ccTBemjy7f1h",
        "outputId": "ae437074-82f8-416d-fdee-039dabf240f4"
      },
      "execution_count": null,
      "outputs": [
        {
          "output_type": "stream",
          "name": "stdout",
          "text": [
            "<class 'numpy.ndarray'>\n"
          ]
        },
        {
          "output_type": "execute_result",
          "data": {
            "text/plain": [
              "dtype('float64')"
            ]
          },
          "metadata": {},
          "execution_count": 10
        }
      ]
    },
    {
      "cell_type": "code",
      "source": [
        "#Assign the value 20 for the second element in the given array.\n",
        "\n",
        "a = np.array([10, 2, 30, 40,50])\n",
        "\n",
        "a[1] = 20\n",
        "\n",
        "a"
      ],
      "metadata": {
        "colab": {
          "base_uri": "https://localhost:8080/"
        },
        "id": "f9dCKUBf70Ui",
        "outputId": "e8b024f7-f6e4-49a6-faf2-e4d83278fba2"
      },
      "execution_count": null,
      "outputs": [
        {
          "output_type": "execute_result",
          "data": {
            "text/plain": [
              "array([10, 20, 30, 40, 50])"
            ]
          },
          "metadata": {},
          "execution_count": 11
        }
      ]
    },
    {
      "cell_type": "code",
      "source": [
        "arr = np.array([1, 2, 3, 4, 5, 6, 7])\n",
        "\n",
        "print(arr[1:6:2])\n",
        "print(arr[:4])\n",
        "print(arr[4:])\n",
        "print(arr[1:5:])"
      ],
      "metadata": {
        "colab": {
          "base_uri": "https://localhost:8080/"
        },
        "id": "f4E1f88Z8bhV",
        "outputId": "69535579-dcb8-482a-e644-e9d48997875f"
      },
      "execution_count": null,
      "outputs": [
        {
          "output_type": "stream",
          "name": "stdout",
          "text": [
            "[2 4 6]\n",
            "[1 2 3 4]\n",
            "[5 6 7]\n",
            "[2 3 4 5]\n"
          ]
        }
      ]
    },
    {
      "cell_type": "code",
      "source": [
        "#Print the even elements in the given array.\n",
        "\n",
        "arr = np.array([1, 2, 3, 4, 5, 6, 7, 8])\n",
        "\n",
        "print(arr[0::2])\n",
        "print(arr[1:8:2])"
      ],
      "metadata": {
        "colab": {
          "base_uri": "https://localhost:8080/"
        },
        "id": "4ljpjEeY87M6",
        "outputId": "5fc999f1-726a-4934-d305-dbce0eb1f6cd"
      },
      "execution_count": null,
      "outputs": [
        {
          "output_type": "stream",
          "name": "stdout",
          "text": [
            "[1 3 5 7]\n"
          ]
        }
      ]
    },
    {
      "cell_type": "code",
      "source": [
        "# Create the index list\n",
        "\n",
        "select = [0, 2, 3, 4]\n",
        "select"
      ],
      "metadata": {
        "colab": {
          "base_uri": "https://localhost:8080/"
        },
        "id": "odt48tO29cy8",
        "outputId": "6a1cd8bd-f14e-4b4d-8bdc-b0a7b399657a"
      },
      "execution_count": null,
      "outputs": [
        {
          "output_type": "execute_result",
          "data": {
            "text/plain": [
              "[0, 2, 3, 4]"
            ]
          },
          "metadata": {},
          "execution_count": 18
        }
      ]
    },
    {
      "cell_type": "code",
      "source": [
        "# Use List to select elements\n",
        "d = [select]\n",
        "d"
      ],
      "metadata": {
        "colab": {
          "base_uri": "https://localhost:8080/"
        },
        "id": "JOPxuB-U9hIJ",
        "outputId": "56506b23-917c-4648-f901-2b0474b6c4b3"
      },
      "execution_count": null,
      "outputs": [
        {
          "output_type": "execute_result",
          "data": {
            "text/plain": [
              "[[0, 2, 3, 4]]"
            ]
          },
          "metadata": {},
          "execution_count": 22
        }
      ]
    },
    {
      "cell_type": "code",
      "source": [
        "a = np.array([0, 1, 2, 3, 4])\n",
        "a"
      ],
      "metadata": {
        "colab": {
          "base_uri": "https://localhost:8080/"
        },
        "id": "xoYUkvu--G2n",
        "outputId": "ae06f157-216b-4790-ae04-9c6c447928c8"
      },
      "execution_count": null,
      "outputs": [
        {
          "output_type": "execute_result",
          "data": {
            "text/plain": [
              "array([0, 1, 2, 3, 4])"
            ]
          },
          "metadata": {},
          "execution_count": 23
        }
      ]
    },
    {
      "cell_type": "code",
      "source": [
        "# Get the size of numpy array\n",
        "\n",
        "a.size"
      ],
      "metadata": {
        "colab": {
          "base_uri": "https://localhost:8080/"
        },
        "id": "3RGluE9L-JxU",
        "outputId": "10dabc5f-8250-4986-a215-049a6411a6f9"
      },
      "execution_count": null,
      "outputs": [
        {
          "output_type": "execute_result",
          "data": {
            "text/plain": [
              "(5,)"
            ]
          },
          "metadata": {},
          "execution_count": 25
        }
      ]
    },
    {
      "cell_type": "code",
      "source": [
        "# Get the number of dimensions of numpy array\n",
        "\n",
        "a.ndim"
      ],
      "metadata": {
        "colab": {
          "base_uri": "https://localhost:8080/"
        },
        "id": "HB0Kqwgp-R_G",
        "outputId": "d08ceb06-8ddf-4fcf-97fc-a89b7ec8a3cd"
      },
      "execution_count": null,
      "outputs": [
        {
          "output_type": "execute_result",
          "data": {
            "text/plain": [
              "1"
            ]
          },
          "metadata": {},
          "execution_count": 26
        }
      ]
    },
    {
      "cell_type": "code",
      "source": [
        "# Get the shape/size of numpy array\n",
        "\n",
        "a.shape"
      ],
      "metadata": {
        "colab": {
          "base_uri": "https://localhost:8080/"
        },
        "id": "FcMYwmVk-TWn",
        "outputId": "6c91752b-811e-4a00-ffa1-9896d755e08a"
      },
      "execution_count": null,
      "outputs": [
        {
          "output_type": "execute_result",
          "data": {
            "text/plain": [
              "(5,)"
            ]
          },
          "metadata": {},
          "execution_count": 27
        }
      ]
    },
    {
      "cell_type": "code",
      "source": [
        "#Find the size ,dimension and shape for the given array b\n",
        "\n",
        "b = np.array([10, 20, 30, 40, 50, 60, 70])\n",
        "\n",
        "print(b.size)\n",
        "\n",
        "print(b.ndim)\n",
        "\n",
        "print(b.shape)"
      ],
      "metadata": {
        "colab": {
          "base_uri": "https://localhost:8080/"
        },
        "id": "wsk9a1QY-eOf",
        "outputId": "94ee11c1-a730-440b-ace1-3f4bc3e2b594"
      },
      "execution_count": null,
      "outputs": [
        {
          "output_type": "stream",
          "name": "stdout",
          "text": [
            "7\n",
            "1\n",
            "(7,)\n"
          ]
        }
      ]
    },
    {
      "cell_type": "code",
      "source": [
        "#Find the sum of maximum and minimum value in the given numpy array\n",
        "\n",
        "c = np.array([-10, 201, 43, 94, 502])\n",
        "\n",
        "max_c = c.max()\n",
        "max_c\n",
        "    \n",
        "min_c = c.min()\n",
        "min_c\n",
        "    \n",
        "    \n",
        "Sum = (max_c +min_c)\n",
        "Sum\n",
        "\n",
        "print(max_c,min_c,Sum)"
      ],
      "metadata": {
        "colab": {
          "base_uri": "https://localhost:8080/"
        },
        "id": "KCXLFLuK-3Kk",
        "outputId": "301e357c-b842-4fec-ea3b-1029b9a7f48a"
      },
      "execution_count": null,
      "outputs": [
        {
          "output_type": "stream",
          "name": "stdout",
          "text": [
            "502 -10 492\n"
          ]
        }
      ]
    },
    {
      "cell_type": "code",
      "source": [
        "#Perform addition operation on the given numpy array arr1 and arr2:\n",
        "\n",
        "arr1 = np.array([10, 11, 12, 13, 14, 15])\n",
        "arr2 = np.array([20, 21, 22, 23, 24, 25])\n",
        "\n",
        "arr3 = np.add(arr1, arr2)\n",
        "print(arr3)\n",
        "\n",
        "arr4 = np.subtract(arr1, arr2)\n",
        "print(arr4)\n",
        "\n",
        "arr5 = np.divide(arr1, arr2)\n",
        "print(arr5)"
      ],
      "metadata": {
        "colab": {
          "base_uri": "https://localhost:8080/"
        },
        "id": "KsbtKZQ2_Rfh",
        "outputId": "94d8a013-6918-4aec-d867-c3d3e4cb6c9b"
      },
      "execution_count": null,
      "outputs": [
        {
          "output_type": "stream",
          "name": "stdout",
          "text": [
            "[30 32 34 36 38 40]\n",
            "[-10 -10 -10 -10 -10 -10]\n",
            "[0.5        0.52380952 0.54545455 0.56521739 0.58333333 0.6       ]\n"
          ]
        }
      ]
    },
    {
      "cell_type": "code",
      "source": [
        "#Perform dot operation on the given numpy array ar1 and ar2:\n",
        "\n",
        "arr1 = np.array([3, 5])\n",
        "arr2 = np.array([2, 4])\n",
        "\n",
        "arr3 = np.dot(arr1, arr2)\n",
        "arr3"
      ],
      "metadata": {
        "colab": {
          "base_uri": "https://localhost:8080/"
        },
        "id": "v2fSMWTA__M8",
        "outputId": "1007d81d-71a5-429b-a615-f37a8afddbaa"
      },
      "execution_count": null,
      "outputs": [
        {
          "output_type": "execute_result",
          "data": {
            "text/plain": [
              "26"
            ]
          },
          "metadata": {},
          "execution_count": 38
        }
      ]
    },
    {
      "cell_type": "code",
      "source": [
        "#Add Constant 5 to the given numpy array ar:\n",
        "\n",
        "arr = np.array([1, 2, 3, -1])\n",
        "\n",
        "print(arr+5)"
      ],
      "metadata": {
        "colab": {
          "base_uri": "https://localhost:8080/"
        },
        "id": "lhufwnHzANWP",
        "outputId": "d24a6d30-fff7-4027-89c9-9a78099876a2"
      },
      "execution_count": null,
      "outputs": [
        {
          "output_type": "stream",
          "name": "stdout",
          "text": [
            "[6 7 8 4]\n"
          ]
        }
      ]
    },
    {
      "cell_type": "code",
      "source": [
        "#Make a numpy array within [5, 4] and 6 elements\n",
        "np.linspace(5, 4, num=6)"
      ],
      "metadata": {
        "colab": {
          "base_uri": "https://localhost:8080/"
        },
        "id": "hdBIVTW3AbFU",
        "outputId": "e4315b59-67e0-46f1-bcd8-5db7777a1abf"
      },
      "execution_count": null,
      "outputs": [
        {
          "output_type": "execute_result",
          "data": {
            "text/plain": [
              "array([5. , 4.8, 4.6, 4.4, 4.2, 4. ])"
            ]
          },
          "metadata": {},
          "execution_count": 40
        }
      ]
    },
    {
      "cell_type": "code",
      "source": [
        "#Implement the following vector subtraction in numpy: u-v\n",
        "u = np.array([1, 0])\n",
        "v = np.array([0, 1])\n",
        "\n",
        "u-v"
      ],
      "metadata": {
        "colab": {
          "base_uri": "https://localhost:8080/"
        },
        "id": "0zG1arc0AtTn",
        "outputId": "4154621a-b0b2-42c5-c6e5-c4324eaedf80"
      },
      "execution_count": null,
      "outputs": [
        {
          "output_type": "execute_result",
          "data": {
            "text/plain": [
              "array([ 1, -1])"
            ]
          },
          "metadata": {},
          "execution_count": 41
        }
      ]
    },
    {
      "cell_type": "code",
      "source": [
        "#Multiply the numpy array z with -2:\n",
        "\n",
        "z = np.array([2, 4])\n",
        "\n",
        "-2*z"
      ],
      "metadata": {
        "colab": {
          "base_uri": "https://localhost:8080/"
        },
        "id": "lvZiBtfcA0tK",
        "outputId": "b0c57e83-7421-45b5-a501-5aed4928cd2f"
      },
      "execution_count": null,
      "outputs": [
        {
          "output_type": "execute_result",
          "data": {
            "text/plain": [
              "array([-4, -8])"
            ]
          },
          "metadata": {},
          "execution_count": 42
        }
      ]
    },
    {
      "cell_type": "code",
      "source": [
        "#Consider the list [1, 2, 3, 4, 5] and [1, 0, 1, 0, 1]. Cast both lists to a numpy array then multiply them together:\n",
        "a = np.array([1, 2, 3, 4, 5])\n",
        "b = np.array([1, 0, 1, 0, 1])\n",
        "a * b"
      ],
      "metadata": {
        "colab": {
          "base_uri": "https://localhost:8080/"
        },
        "id": "MSoF-laOA_Vx",
        "outputId": "356577e5-bfc7-4c13-8e48-0a87d516825b"
      },
      "execution_count": null,
      "outputs": [
        {
          "output_type": "execute_result",
          "data": {
            "text/plain": [
              "array([1, 0, 3, 0, 5])"
            ]
          },
          "metadata": {},
          "execution_count": 43
        }
      ]
    },
    {
      "cell_type": "code",
      "source": [
        "# Import the libraries\n",
        "\n",
        "import time \n",
        "import sys\n",
        "import numpy as np \n",
        "\n",
        "import matplotlib.pyplot as plt\n",
        "%matplotlib inline  \n",
        "\n",
        "def Plotvec2(a,b):\n",
        "    ax = plt.axes()# to generate the full window axes\n",
        "    ax.arrow(0, 0, *a, head_width=0.05, color ='r', head_length=0.1)#Add an arrow to the  a Axes with arrow head width 0.05, color red and arrow head length 0.1\n",
        "    plt.text(*(a + 0.1), 'a')\n",
        "    ax.arrow(0, 0, *b, head_width=0.05, color ='b', head_length=0.1)#Add an arrow to the  b Axes with arrow head width 0.05, color blue and arrow head length 0.1\n",
        "    plt.text(*(b + 0.1), 'b')\n",
        "    plt.ylim(-2, 2)#set the ylim to bottom(-2), top(2)\n",
        "    plt.xlim(-2, 2)#set the xlim to left(-2), right(2)"
      ],
      "metadata": {
        "id": "YRqcL7MXBJ5J"
      },
      "execution_count": null,
      "outputs": []
    },
    {
      "cell_type": "code",
      "source": [
        "a = np.array([-1, 1])\n",
        "b = np.array([1, 1])\n",
        "Plotvec2(a, b)\n",
        "print(\"The dot product is\", np.dot(a,b))"
      ],
      "metadata": {
        "colab": {
          "base_uri": "https://localhost:8080/",
          "height": 286
        },
        "id": "vkXmcUg4BQDK",
        "outputId": "216e6727-f994-48fe-a11d-2f6af57e346c"
      },
      "execution_count": null,
      "outputs": [
        {
          "output_type": "stream",
          "name": "stdout",
          "text": [
            "The dot product is 0\n"
          ]
        },
        {
          "output_type": "display_data",
          "data": {
            "text/plain": [
              "<Figure size 432x288 with 1 Axes>"
            ],
            "image/png": "[encoded data removed]"
          },
          "metadata": {
            "needs_background": "light"
          }
        }
      ]
    },
    {
      "cell_type": "code",
      "source": [
        "a = np.array([1, 0])\n",
        "b = np.array([0, 1])\n",
        "Plotvec2(a, b)\n",
        "print(\"The dot product is\", np.dot(a, b))"
      ],
      "metadata": {
        "colab": {
          "base_uri": "https://localhost:8080/",
          "height": 286
        },
        "id": "IpYXKRlWBqVa",
        "outputId": "19402a61-c5a2-4643-d2ab-5ff7c04398d2"
      },
      "execution_count": null,
      "outputs": [
        {
          "output_type": "stream",
          "name": "stdout",
          "text": [
            "The dot product is 0\n"
          ]
        },
        {
          "output_type": "display_data",
          "data": {
            "text/plain": [
              "<Figure size 432x288 with 1 Axes>"
            ],
            "image/png": "[encoded data removed]"
          },
          "metadata": {
            "needs_background": "light"
          }
        }
      ]
    },
    {
      "cell_type": "code",
      "source": [
        "a = np.array([1, 1])\n",
        "b = np.array([0, 1])\n",
        "Plotvec2(a, b)\n",
        "print(\"The dot product is\", np.dot(a, b))"
      ],
      "metadata": {
        "colab": {
          "base_uri": "https://localhost:8080/",
          "height": 286
        },
        "id": "M6tY5P2tB2Rq",
        "outputId": "58b85ddb-fbb2-4a64-d4b6-2ec0abceff2a"
      },
      "execution_count": null,
      "outputs": [
        {
          "output_type": "stream",
          "name": "stdout",
          "text": [
            "The dot product is 1\n"
          ]
        },
        {
          "output_type": "display_data",
          "data": {
            "text/plain": [
              "<Figure size 432x288 with 1 Axes>"
            ],
            "image/png": "[encoded data removed]"
          },
          "metadata": {
            "needs_background": "light"
          }
        }
      ]
    },
    {
      "cell_type": "code",
      "source": [
        "#Convert the list [1, 2, 3] and [8, 9, 10] to numpy arrays arr1 and arr2. Then perform Addition , Subtraction , Multiplication , Division and Dot Operation on the arr1 and arr2\n",
        "arr1 = np.array([1, 2, 3])\n",
        "arr2 = np.array([8, 9, 10])\n",
        "\n",
        "arr3 = np.add(arr1, arr2)\n",
        "arr3\n",
        "\n",
        "arr4 = np.subtract(arr1, arr2)\n",
        "arr4\n",
        "\n",
        "arr5 = np.multiply(arr1, arr2)\n",
        "arr5\n",
        "\n",
        "\n",
        "arr6 = np.divide(arr1, arr2)\n",
        "arr6\n",
        "\n",
        "arr7 = np.dot(arr1, arr2)\n",
        "arr7"
      ],
      "metadata": {
        "colab": {
          "base_uri": "https://localhost:8080/"
        },
        "id": "IjDp0h8ACDOk",
        "outputId": "5f36b0a7-8b17-44ec-ba0e-a37bb01b99f6"
      },
      "execution_count": null,
      "outputs": [
        {
          "output_type": "execute_result",
          "data": {
            "text/plain": [
              "56"
            ]
          },
          "metadata": {},
          "execution_count": 48
        }
      ]
    },
    {
      "cell_type": "code",
      "source": [
        "#Convert the list [1, 2, 3, 4, 5] and [6, 7, 8, 9, 10] to numpy arrays arr1 and arr2. Then find the even and odd numbers from arr1 and arr2.\n",
        "arr1 = np.array([1, 2, 3, 4, 5])\n",
        "arr2 = np.array([6, 7, 8, 9, 10])\n",
        "\n",
        "x = arr1[1:8:2]\n",
        "x\n",
        "   \n",
        "y = arr2[0:8:2]\n",
        "y   "
      ],
      "metadata": {
        "colab": {
          "base_uri": "https://localhost:8080/"
        },
        "id": "8CJcHyz9CPtW",
        "outputId": "ba50db00-06d5-4289-aff1-69f98aab6cd6"
      },
      "execution_count": null,
      "outputs": [
        {
          "output_type": "execute_result",
          "data": {
            "text/plain": [
              "array([ 6,  8, 10])"
            ]
          },
          "metadata": {},
          "execution_count": 49
        }
      ]
    },
    {
      "cell_type": "code",
      "source": [
        "A = np.array([[1,2],[3,4],[5,6],[7,8]])\n",
        "\n",
        "print(A)"
      ],
      "metadata": {
        "colab": {
          "base_uri": "https://localhost:8080/"
        },
        "id": "MhTWIoYvEe5l",
        "outputId": "7ba022e5-efdc-4c2d-80bf-07ca14a822ef"
      },
      "execution_count": null,
      "outputs": [
        {
          "output_type": "stream",
          "name": "stdout",
          "text": [
            "[[1 2]\n",
            " [3 4]\n",
            " [5 6]\n",
            " [7 8]]\n"
          ]
        }
      ]
    },
    {
      "cell_type": "code",
      "source": [
        "A = np.array([[1,2],[3,4],[5,6],[7,8]])\n",
        "B = np.array([[1,2,3],[4,5,6],[7,8,9]])\n",
        "\n",
        "np.dot(A,B)"
      ],
      "metadata": {
        "colab": {
          "base_uri": "https://localhost:8080/",
          "height": 236
        },
        "id": "sFH5ulIsErjs",
        "outputId": "5c58c300-ae05-4041-e8ef-9b6a055480fa"
      },
      "execution_count": null,
      "outputs": [
        {
          "output_type": "error",
          "ename": "ValueError",
          "evalue": "ignored",
          "traceback": [
            "\u001b[0;31m---------------------------------------------------------------------------\u001b[0m",
            "\u001b[0;31mValueError\u001b[0m                                Traceback (most recent call last)",
            "\u001b[0;32m<ipython-input-52-8fc71ac2fda5>\u001b[0m in \u001b[0;36m<module>\u001b[0;34m\u001b[0m\n\u001b[1;32m      2\u001b[0m \u001b[0mB\u001b[0m \u001b[0;34m=\u001b[0m \u001b[0mnp\u001b[0m\u001b[0;34m.\u001b[0m\u001b[0marray\u001b[0m\u001b[0;34m(\u001b[0m\u001b[0;34m[\u001b[0m\u001b[0;34m[\u001b[0m\u001b[0;36m1\u001b[0m\u001b[0;34m,\u001b[0m\u001b[0;36m2\u001b[0m\u001b[0;34m,\u001b[0m\u001b[0;36m3\u001b[0m\u001b[0;34m]\u001b[0m\u001b[0;34m,\u001b[0m\u001b[0;34m[\u001b[0m\u001b[0;36m4\u001b[0m\u001b[0;34m,\u001b[0m\u001b[0;36m5\u001b[0m\u001b[0;34m,\u001b[0m\u001b[0;36m6\u001b[0m\u001b[0;34m]\u001b[0m\u001b[0;34m,\u001b[0m\u001b[0;34m[\u001b[0m\u001b[0;36m7\u001b[0m\u001b[0;34m,\u001b[0m\u001b[0;36m8\u001b[0m\u001b[0;34m,\u001b[0m\u001b[0;36m9\u001b[0m\u001b[0;34m]\u001b[0m\u001b[0;34m]\u001b[0m\u001b[0;34m)\u001b[0m\u001b[0;34m\u001b[0m\u001b[0;34m\u001b[0m\u001b[0m\n\u001b[1;32m      3\u001b[0m \u001b[0;34m\u001b[0m\u001b[0m\n\u001b[0;32m----> 4\u001b[0;31m \u001b[0mnp\u001b[0m\u001b[0;34m.\u001b[0m\u001b[0mdot\u001b[0m\u001b[0;34m(\u001b[0m\u001b[0mA\u001b[0m\u001b[0;34m,\u001b[0m\u001b[0mB\u001b[0m\u001b[0;34m)\u001b[0m\u001b[0;34m\u001b[0m\u001b[0;34m\u001b[0m\u001b[0m\n\u001b[0m",
            "\u001b[0;32m<__array_function__ internals>\u001b[0m in \u001b[0;36mdot\u001b[0;34m(*args, **kwargs)\u001b[0m\n",
            "\u001b[0;31mValueError\u001b[0m: shapes (4,2) and (3,3) not aligned: 2 (dim 1) != 3 (dim 0)"
          ]
        }
      ]
    },
    {
      "cell_type": "code",
      "source": [
        "A=np.array([[11,12],[21,22]])\n",
        "B=np.array([[1, 0],[0,1]])\n",
        "\n",
        "C = A * B\n",
        "C\n",
        "\n",
        "Z = np.dot(A,B)\n",
        "Z"
      ],
      "metadata": {
        "colab": {
          "base_uri": "https://localhost:8080/"
        },
        "id": "gHc3v2_pFNlC",
        "outputId": "42c79812-73ca-4eae-ec63-227278c0ad85"
      },
      "execution_count": null,
      "outputs": [
        {
          "output_type": "execute_result",
          "data": {
            "text/plain": [
              "array([[11, 12],\n",
              "       [21, 22]])"
            ]
          },
          "metadata": {},
          "execution_count": 53
        }
      ]
    },
    {
      "cell_type": "code",
      "source": [
        "#Consider the following list a, convert it to Numpy Array.\n",
        "\n",
        "a = [[1, 2, 3, 4], [5, 6, 7, 8], [9, 10, 11, 12]]\n",
        "A = np.array(a)\n",
        "A"
      ],
      "metadata": {
        "colab": {
          "base_uri": "https://localhost:8080/"
        },
        "id": "O1s8eAseGAOL",
        "outputId": "221003e3-7617-4b23-d2f0-13920f5bd9fe"
      },
      "execution_count": null,
      "outputs": [
        {
          "output_type": "execute_result",
          "data": {
            "text/plain": [
              "array([[ 1,  2,  3,  4],\n",
              "       [ 5,  6,  7,  8],\n",
              "       [ 9, 10, 11, 12]])"
            ]
          },
          "metadata": {},
          "execution_count": 54
        }
      ]
    },
    {
      "cell_type": "code",
      "source": [
        "#Calculate the numpy array size.\n",
        "A.size"
      ],
      "metadata": {
        "colab": {
          "base_uri": "https://localhost:8080/"
        },
        "id": "6D_JBaVfGNBy",
        "outputId": "e3a40866-2288-4668-b91c-96d4b40d2430"
      },
      "execution_count": null,
      "outputs": [
        {
          "output_type": "execute_result",
          "data": {
            "text/plain": [
              "12"
            ]
          },
          "metadata": {},
          "execution_count": 55
        }
      ]
    },
    {
      "cell_type": "code",
      "source": [
        "#Access the element on the first row and first and second columns.\n",
        "A[0][0:2]"
      ],
      "metadata": {
        "colab": {
          "base_uri": "https://localhost:8080/"
        },
        "id": "TfJ-gt7RGTT7",
        "outputId": "98387c70-3aa9-440b-e737-d620037ed324"
      },
      "execution_count": null,
      "outputs": [
        {
          "output_type": "execute_result",
          "data": {
            "text/plain": [
              "array([1, 2])"
            ]
          },
          "metadata": {},
          "execution_count": 56
        }
      ]
    },
    {
      "cell_type": "code",
      "source": [
        "#Perform matrix multiplication with the numpy arrays A and B.\n",
        "B = np.array([[0, 1], [1, 0], [1, 1], [-1, 0]])\n",
        "X = np.dot(A,B)\n",
        "X"
      ],
      "metadata": {
        "colab": {
          "base_uri": "https://localhost:8080/"
        },
        "id": "C9W7WWZvGaTt",
        "outputId": "a705bcc7-db0d-4df3-9339-22af5139bfed"
      },
      "execution_count": null,
      "outputs": [
        {
          "output_type": "execute_result",
          "data": {
            "text/plain": [
              "array([[ 1,  4],\n",
              "       [ 5, 12],\n",
              "       [ 9, 20]])"
            ]
          },
          "metadata": {},
          "execution_count": 57
        }
      ]
    },
    {
      "cell_type": "code",
      "source": [
        "#In the previous section, we used the wget function to retrieve content from the web server as shown below. Write the python code to perform the same task. The code should be the same as the one used to download the image, but the file name should be 'Example1.txt'.\n",
        "\n",
        "import requests\n",
        "import os \n",
        "from PIL import Image\n",
        "from IPython.display import IFrame"
      ],
      "metadata": {
        "id": "qP1hR61AJzbN"
      },
      "execution_count": null,
      "outputs": []
    },
    {
      "cell_type": "code",
      "source": [
        "!wget -O /resources/data/Example1.txt https://cf-courses-data.s3.us.cloud-object-storage.appdomain.cloud/IBMDeveloperSkillsNetwork-PY0101EN-SkillsNetwork/labs/Module%205/data/Example1.txt"
      ],
      "metadata": {
        "colab": {
          "base_uri": "https://localhost:8080/"
        },
        "id": "HlxN_WeJKB0q",
        "outputId": "5744ccd8-9064-455d-cb59-8b35a2be2fe0"
      },
      "execution_count": null,
      "outputs": [
        {
          "output_type": "stream",
          "name": "stdout",
          "text": [
            "/resources/data/Example1.txt: No such file or directory\n"
          ]
        }
      ]
    },
    {
      "cell_type": "code",
      "source": [
        "url='https://cf-courses-data.s3.us.cloud-object-storage.appdomain.cloud/IBMDeveloperSkillsNetwork-PY0101EN-SkillsNetwork/labs/Module%205/data/Example1.txt'\n",
        "path=os.path.join(os.getcwd(),'example1.txt')\n",
        "r=requests.get(url)\n",
        "with open(path,'wb') as f:\n",
        "    f.write(r.content)"
      ],
      "metadata": {
        "id": "kIucrhS-KGny"
      },
      "execution_count": null,
      "outputs": []
    },
    {
      "cell_type": "code",
      "source": [
        "!pip install randomuser"
      ],
      "metadata": {
        "colab": {
          "base_uri": "https://localhost:8080/"
        },
        "id": "jzlqbGByK4o6",
        "outputId": "85aabc50-7af4-4af3-edd7-9e1f6a47b3b7"
      },
      "execution_count": null,
      "outputs": [
        {
          "output_type": "stream",
          "name": "stdout",
          "text": [
            "Looking in indexes: https://pypi.org/simple, https://us-python.pkg.dev/colab-wheels/public/simple/\n",
            "Collecting randomuser\n",
            "  Downloading randomuser-1.6.tar.gz (5.0 kB)\n",
            "Building wheels for collected packages: randomuser\n",
            "  Building wheel for randomuser (setup.py) ... \u001b[?25l\u001b[?25hdone\n",
            "  Created wheel for randomuser: filename=randomuser-1.6-py3-none-any.whl size=5084 sha256=4bc4c1489e52172b8dae81175fbcffa21a4b92c225ef188203be54596bc8402f\n",
            "  Stored in directory: /root/.cache/pip/wheels/21/10/7b/c13bc3e24a3c1000a34554802ad8aa0ff27df56366998a0473\n",
            "Successfully built randomuser\n",
            "Installing collected packages: randomuser\n",
            "Successfully installed randomuser-1.6\n"
          ]
        }
      ]
    },
    {
      "cell_type": "code",
      "source": [
        "from randomuser import RandomUser\n",
        "import pandas as pd"
      ],
      "metadata": {
        "id": "NQu2vzNEK8Rg"
      },
      "execution_count": null,
      "outputs": []
    },
    {
      "cell_type": "code",
      "source": [
        "r = RandomUser()"
      ],
      "metadata": {
        "id": "zpI2sPvwLAji"
      },
      "execution_count": null,
      "outputs": []
    },
    {
      "cell_type": "code",
      "source": [
        "some_list = r.generate_users(10)"
      ],
      "metadata": {
        "id": "ecEdzQvnLDaO"
      },
      "execution_count": null,
      "outputs": []
    },
    {
      "cell_type": "code",
      "source": [
        "some_list"
      ],
      "metadata": {
        "colab": {
          "base_uri": "https://localhost:8080/"
        },
        "id": "QS4EcjMiLGNS",
        "outputId": "f47481e9-ee99-4b5f-a054-38bc28f881bf"
      },
      "execution_count": null,
      "outputs": [
        {
          "output_type": "execute_result",
          "data": {
            "text/plain": [
              "[<randomuser.RandomUser at 0x7f3428cc0550>,\n",
              " <randomuser.RandomUser at 0x7f3428cc0590>,\n",
              " <randomuser.RandomUser at 0x7f3428cc05d0>,\n",
              " <randomuser.RandomUser at 0x7f3428cc0610>,\n",
              " <randomuser.RandomUser at 0x7f3428cc0690>,\n",
              " <randomuser.RandomUser at 0x7f3428cc0650>,\n",
              " <randomuser.RandomUser at 0x7f3428cc0710>,\n",
              " <randomuser.RandomUser at 0x7f3428cc0750>,\n",
              " <randomuser.RandomUser at 0x7f3428cc0790>,\n",
              " <randomuser.RandomUser at 0x7f3428cc06d0>]"
            ]
          },
          "metadata": {},
          "execution_count": 65
        }
      ]
    },
    {
      "cell_type": "code",
      "source": [
        "name = r.get_full_name()"
      ],
      "metadata": {
        "id": "0aml-H_ALJXL"
      },
      "execution_count": null,
      "outputs": []
    },
    {
      "cell_type": "code",
      "source": [
        "for user in some_list:\n",
        "    print (user.get_full_name(),\" \",user.get_email())"
      ],
      "metadata": {
        "colab": {
          "base_uri": "https://localhost:8080/"
        },
        "id": "dQezXB9kLMbC",
        "outputId": "804a0671-1a7d-45f4-b973-48e5a0f68a85"
      },
      "execution_count": null,
      "outputs": [
        {
          "output_type": "stream",
          "name": "stdout",
          "text": [
            "Sebastian Olsen   sebastian.olsen@example.com\n",
            "Safa Eliassen   safa.eliassen@example.com\n",
            "Kelya Jean   kelya.jean@example.com\n",
            "Ella Thomas   ella.thomas@example.com\n",
            "Katarina Rosemann   katarina.rosemann@example.com\n",
            "Mike Papke   mike.papke@example.com\n",
            "Antão Cardoso   antao.cardoso@example.com\n",
            "Abigail Li   abigail.li@example.com\n",
            "Chester Cook   chester.cook@example.com\n",
            "Flenn Grant   flenn.grant@example.com\n"
          ]
        }
      ]
    },
    {
      "cell_type": "code",
      "source": [
        "#In this Exercise, generate photos of the random 5 users.\n",
        "for user in some_list:\n",
        "    print (user.get_picture())"
      ],
      "metadata": {
        "colab": {
          "base_uri": "https://localhost:8080/"
        },
        "id": "VQuS2mYHKvje",
        "outputId": "cbb8afad-ba26-4a8a-c6cd-90dab62b31ca"
      },
      "execution_count": null,
      "outputs": [
        {
          "output_type": "stream",
          "name": "stdout",
          "text": [
            "https://randomuser.me/api/portraits/men/40.jpg\n",
            "https://randomuser.me/api/portraits/women/14.jpg\n",
            "https://randomuser.me/api/portraits/women/17.jpg\n",
            "https://randomuser.me/api/portraits/women/52.jpg\n",
            "https://randomuser.me/api/portraits/women/8.jpg\n",
            "https://randomuser.me/api/portraits/men/15.jpg\n",
            "https://randomuser.me/api/portraits/men/50.jpg\n",
            "https://randomuser.me/api/portraits/women/94.jpg\n",
            "https://randomuser.me/api/portraits/men/92.jpg\n",
            "https://randomuser.me/api/portraits/men/60.jpg\n"
          ]
        }
      ]
    },
    {
      "cell_type": "code",
      "source": [
        "def get_users():\n",
        "    users =[]\n",
        "     \n",
        "    for user in RandomUser.generate_users(10):\n",
        "        users.append({\"Name\":user.get_full_name(),\"Gender\":user.get_gender(),\"City\":user.get_city(),\"State\":user.get_state(),\"Email\":user.get_email(), \"DOB\":user.get_dob(),\"Picture\":user.get_picture()})\n",
        "      \n",
        "    return pd.DataFrame(users) "
      ],
      "metadata": {
        "id": "UTKCiQMPLT7l"
      },
      "execution_count": null,
      "outputs": []
    },
    {
      "cell_type": "code",
      "source": [
        "get_users()"
      ],
      "metadata": {
        "colab": {
          "base_uri": "https://localhost:8080/",
          "height": 363
        },
        "id": "qRj_mVHmLWhI",
        "outputId": "23d4fbd3-300e-4b11-ceae-66bcabcab32f"
      },
      "execution_count": null,
      "outputs": [
        {
          "output_type": "execute_result",
          "data": {
            "text/plain": [
              "               Name  Gender         City       State  \\\n",
              "0      Oliver Slawa    male   Trout Lake     Alberta   \n",
              "1  Önal Limoncuoğlu    male        Niğde     Isparta   \n",
              "2     Liberal Costa    male  Carapicuíba       Bahia   \n",
              "3     Jacira Castro  female    Guarapari       Amapá   \n",
              "4   Brennan Holland    male     Brisbane  Queensland   \n",
              "5    Isabel Jackson  female     Tauranga    Auckland   \n",
              "6   Ahmet Ertepınar    male    Eskişehir       Muğla   \n",
              "7    Tracy Campbell  female       Carlow     Donegal   \n",
              "8      Erin Barnett  female    Henderson     Alabama   \n",
              "9      هلیا محمدخان  female     نجف‌آباد       زنجان   \n",
              "\n",
              "                          Email                       DOB  \\\n",
              "0      oliver.slawa@example.com  1989-06-04T08:52:37.333Z   \n",
              "1  onal.limoncuoglu@example.com  1971-05-28T01:32:46.098Z   \n",
              "2     liberal.costa@example.com  1984-05-18T00:49:27.116Z   \n",
              "3     jacira.castro@example.com  1972-02-07T06:49:48.694Z   \n",
              "4   brennan.holland@example.com  1959-02-09T18:52:16.602Z   \n",
              "5    isabel.jackson@example.com  1974-08-19T23:46:24.979Z   \n",
              "6   ahmet.ertepinar@example.com  1991-11-09T04:11:20.585Z   \n",
              "7    tracy.campbell@example.com  1983-09-18T11:36:09.521Z   \n",
              "8      erin.barnett@example.com  1981-05-30T02:25:28.880Z   \n",
              "9       hly.mhmdkhn@example.com  1965-03-15T11:24:09.266Z   \n",
              "\n",
              "                                            Picture  \n",
              "0    https://randomuser.me/api/portraits/men/52.jpg  \n",
              "1    https://randomuser.me/api/portraits/men/65.jpg  \n",
              "2    https://randomuser.me/api/portraits/men/26.jpg  \n",
              "3  https://randomuser.me/api/portraits/women/82.jpg  \n",
              "4    https://randomuser.me/api/portraits/men/80.jpg  \n",
              "5  https://randomuser.me/api/portraits/women/78.jpg  \n",
              "6    https://randomuser.me/api/portraits/men/72.jpg  \n",
              "7  https://randomuser.me/api/portraits/women/35.jpg  \n",
              "8  https://randomuser.me/api/portraits/women/66.jpg  \n",
              "9  https://randomuser.me/api/portraits/women/24.jpg  "
            ],
            "text/html": [
              "\n",
              "  <div id=\"df-92921b16-8268-4f4d-bcb3-6d362c0b9df2\">\n",
              "    <div class=\"colab-df-container\">\n",
              "      <div>\n",
              "<style scoped>\n",
              "    .dataframe tbody tr th:only-of-type {\n",
              "        vertical-align: middle;\n",
              "    }\n",
              "\n",
              "    .dataframe tbody tr th {\n",
              "        vertical-align: top;\n",
              "    }\n",
              "\n",
              "    .dataframe thead th {\n",
              "        text-align: right;\n",
              "    }\n",
              "</style>\n",
              "<table border=\"1\" class=\"dataframe\">\n",
              "  <thead>\n",
              "    <tr style=\"text-align: right;\">\n",
              "      <th></th>\n",
              "      <th>Name</th>\n",
              "      <th>Gender</th>\n",
              "      <th>City</th>\n",
              "      <th>State</th>\n",
              "      <th>Email</th>\n",
              "      <th>DOB</th>\n",
              "      <th>Picture</th>\n",
              "    </tr>\n",
              "  </thead>\n",
              "  <tbody>\n",
              "    <tr>\n",
              "      <th>0</th>\n",
              "      <td>Oliver Slawa</td>\n",
              "      <td>male</td>\n",
              "      <td>Trout Lake</td>\n",
              "      <td>Alberta</td>\n",
              "      <td>oliver.slawa@example.com</td>\n",
              "      <td>1989-06-04T08:52:37.333Z</td>\n",
              "      <td>https://randomuser.me/api/portraits/men/52.jpg</td>\n",
              "    </tr>\n",
              "    <tr>\n",
              "      <th>1</th>\n",
              "      <td>Önal Limoncuoğlu</td>\n",
              "      <td>male</td>\n",
              "      <td>Niğde</td>\n",
              "      <td>Isparta</td>\n",
              "      <td>onal.limoncuoglu@example.com</td>\n",
              "      <td>1971-05-28T01:32:46.098Z</td>\n",
              "      <td>https://randomuser.me/api/portraits/men/65.jpg</td>\n",
              "    </tr>\n",
              "    <tr>\n",
              "      <th>2</th>\n",
              "      <td>Liberal Costa</td>\n",
              "      <td>male</td>\n",
              "      <td>Carapicuíba</td>\n",
              "      <td>Bahia</td>\n",
              "      <td>liberal.costa@example.com</td>\n",
              "      <td>1984-05-18T00:49:27.116Z</td>\n",
              "      <td>https://randomuser.me/api/portraits/men/26.jpg</td>\n",
              "    </tr>\n",
              "    <tr>\n",
              "      <th>3</th>\n",
              "      <td>Jacira Castro</td>\n",
              "      <td>female</td>\n",
              "      <td>Guarapari</td>\n",
              "      <td>Amapá</td>\n",
              "      <td>jacira.castro@example.com</td>\n",
              "      <td>1972-02-07T06:49:48.694Z</td>\n",
              "      <td>https://randomuser.me/api/portraits/women/82.jpg</td>\n",
              "    </tr>\n",
              "    <tr>\n",
              "      <th>4</th>\n",
              "      <td>Brennan Holland</td>\n",
              "      <td>male</td>\n",
              "      <td>Brisbane</td>\n",
              "      <td>Queensland</td>\n",
              "      <td>brennan.holland@example.com</td>\n",
              "      <td>1959-02-09T18:52:16.602Z</td>\n",
              "      <td>https://randomuser.me/api/portraits/men/80.jpg</td>\n",
              "    </tr>\n",
              "    <tr>\n",
              "      <th>5</th>\n",
              "      <td>Isabel Jackson</td>\n",
              "      <td>female</td>\n",
              "      <td>Tauranga</td>\n",
              "      <td>Auckland</td>\n",
              "      <td>isabel.jackson@example.com</td>\n",
              "      <td>1974-08-19T23:46:24.979Z</td>\n",
              "      <td>https://randomuser.me/api/portraits/women/78.jpg</td>\n",
              "    </tr>\n",
              "    <tr>\n",
              "      <th>6</th>\n",
              "      <td>Ahmet Ertepınar</td>\n",
              "      <td>male</td>\n",
              "      <td>Eskişehir</td>\n",
              "      <td>Muğla</td>\n",
              "      <td>ahmet.ertepinar@example.com</td>\n",
              "      <td>1991-11-09T04:11:20.585Z</td>\n",
              "      <td>https://randomuser.me/api/portraits/men/72.jpg</td>\n",
              "    </tr>\n",
              "    <tr>\n",
              "      <th>7</th>\n",
              "      <td>Tracy Campbell</td>\n",
              "      <td>female</td>\n",
              "      <td>Carlow</td>\n",
              "      <td>Donegal</td>\n",
              "      <td>tracy.campbell@example.com</td>\n",
              "      <td>1983-09-18T11:36:09.521Z</td>\n",
              "      <td>https://randomuser.me/api/portraits/women/35.jpg</td>\n",
              "    </tr>\n",
              "    <tr>\n",
              "      <th>8</th>\n",
              "      <td>Erin Barnett</td>\n",
              "      <td>female</td>\n",
              "      <td>Henderson</td>\n",
              "      <td>Alabama</td>\n",
              "      <td>erin.barnett@example.com</td>\n",
              "      <td>1981-05-30T02:25:28.880Z</td>\n",
              "      <td>https://randomuser.me/api/portraits/women/66.jpg</td>\n",
              "    </tr>\n",
              "    <tr>\n",
              "      <th>9</th>\n",
              "      <td>هلیا محمدخان</td>\n",
              "      <td>female</td>\n",
              "      <td>نجف‌آباد</td>\n",
              "      <td>زنجان</td>\n",
              "      <td>hly.mhmdkhn@example.com</td>\n",
              "      <td>1965-03-15T11:24:09.266Z</td>\n",
              "      <td>https://randomuser.me/api/portraits/women/24.jpg</td>\n",
              "    </tr>\n",
              "  </tbody>\n",
              "</table>\n",
              "</div>\n",
              "      <button class=\"colab-df-convert\" onclick=\"convertToInteractive('df-92921b16-8268-4f4d-bcb3-6d362c0b9df2')\"\n",
              "              title=\"Convert this dataframe to an interactive table.\"\n",
              "              style=\"display:none;\">\n",
              "        \n",
              "  <svg xmlns=\"http://www.w3.org/2000/svg\" height=\"24px\"viewBox=\"0 0 24 24\"\n",
              "       width=\"24px\">\n",
              "    <path d=\"M0 0h24v24H0V0z\" fill=\"none\"/>\n",
              "    <path d=\"M18.56 5.44l.94 2.06.94-2.06 2.06-.94-2.06-.94-.94-2.06-.94 2.06-2.06.94zm-11 1L8.5 8.5l.94-2.06 2.06-.94-2.06-.94L8.5 2.5l-.94 2.06-2.06.94zm10 10l.94 2.06.94-2.06 2.06-.94-2.06-.94-.94-2.06-.94 2.06-2.06.94z\"/><path d=\"M17.41 7.96l-1.37-1.37c-.4-.4-.92-.59-1.43-.59-.52 0-1.04.2-1.43.59L10.3 9.45l-7.72 7.72c-.78.78-.78 2.05 0 2.83L4 21.41c.39.39.9.59 1.41.59.51 0 1.02-.2 1.41-.59l7.78-7.78 2.81-2.81c.8-.78.8-2.07 0-2.86zM5.41 20L4 18.59l7.72-7.72 1.47 1.35L5.41 20z\"/>\n",
              "  </svg>\n",
              "      </button>\n",
              "      \n",
              "  <style>\n",
              "    .colab-df-container {\n",
              "      display:flex;\n",
              "      flex-wrap:wrap;\n",
              "      gap: 12px;\n",
              "    }\n",
              "\n",
              "    .colab-df-convert {\n",
              "      background-color: #E8F0FE;\n",
              "      border: none;\n",
              "      border-radius: 50%;\n",
              "      cursor: pointer;\n",
              "      display: none;\n",
              "      fill: #1967D2;\n",
              "      height: 32px;\n",
              "      padding: 0 0 0 0;\n",
              "      width: 32px;\n",
              "    }\n",
              "\n",
              "    .colab-df-convert:hover {\n",
              "      background-color: #E2EBFA;\n",
              "      box-shadow: 0px 1px 2px rgba(60, 64, 67, 0.3), 0px 1px 3px 1px rgba(60, 64, 67, 0.15);\n",
              "      fill: #174EA6;\n",
              "    }\n",
              "\n",
              "    [theme=dark] .colab-df-convert {\n",
              "      background-color: #3B4455;\n",
              "      fill: #D2E3FC;\n",
              "    }\n",
              "\n",
              "    [theme=dark] .colab-df-convert:hover {\n",
              "      background-color: #434B5C;\n",
              "      box-shadow: 0px 1px 3px 1px rgba(0, 0, 0, 0.15);\n",
              "      filter: drop-shadow(0px 1px 2px rgba(0, 0, 0, 0.3));\n",
              "      fill: #FFFFFF;\n",
              "    }\n",
              "  </style>\n",
              "\n",
              "      <script>\n",
              "        const buttonEl =\n",
              "          document.querySelector('#df-92921b16-8268-4f4d-bcb3-6d362c0b9df2 button.colab-df-convert');\n",
              "        buttonEl.style.display =\n",
              "          google.colab.kernel.accessAllowed ? 'block' : 'none';\n",
              "\n",
              "        async function convertToInteractive(key) {\n",
              "          const element = document.querySelector('#df-92921b16-8268-4f4d-bcb3-6d362c0b9df2');\n",
              "          const dataTable =\n",
              "            await google.colab.kernel.invokeFunction('convertToInteractive',\n",
              "                                                     [key], {});\n",
              "          if (!dataTable) return;\n",
              "\n",
              "          const docLinkHtml = 'Like what you see? Visit the ' +\n",
              "            '<a target=\"_blank\" href=https://colab.research.google.com/notebooks/data_table.ipynb>data table notebook</a>'\n",
              "            + ' to learn more about interactive tables.';\n",
              "          element.innerHTML = '';\n",
              "          dataTable['output_type'] = 'display_data';\n",
              "          await google.colab.output.renderOutput(dataTable, element);\n",
              "          const docLink = document.createElement('div');\n",
              "          docLink.innerHTML = docLinkHtml;\n",
              "          element.appendChild(docLink);\n",
              "        }\n",
              "      </script>\n",
              "    </div>\n",
              "  </div>\n",
              "  "
            ]
          },
          "metadata": {},
          "execution_count": 70
        }
      ]
    },
    {
      "cell_type": "code",
      "source": [
        "df1 = pd.DataFrame(get_users())  "
      ],
      "metadata": {
        "id": "CamNrXq-LZ5C"
      },
      "execution_count": null,
      "outputs": []
    },
    {
      "cell_type": "code",
      "source": [
        "import requests\n",
        "import json"
      ],
      "metadata": {
        "id": "Lb2qLHoZLeq2"
      },
      "execution_count": null,
      "outputs": []
    },
    {
      "cell_type": "code",
      "source": [
        "data = requests.get(\"https://www.fruityvice.com/api/fruit/all\")"
      ],
      "metadata": {
        "id": "VF9KOGpuLhAU"
      },
      "execution_count": null,
      "outputs": []
    },
    {
      "cell_type": "code",
      "source": [
        "results = json.loads(data.text)"
      ],
      "metadata": {
        "id": "JwLjEPpkLjVm"
      },
      "execution_count": null,
      "outputs": []
    },
    {
      "cell_type": "code",
      "source": [
        "pd.DataFrame(results)"
      ],
      "metadata": {
        "colab": {
          "base_uri": "https://localhost:8080/",
          "height": 1000
        },
        "id": "S21dRJo9LlkA",
        "outputId": "1912722e-6e6f-4bcc-99c6-130d02daa15f"
      },
      "execution_count": null,
      "outputs": [
        {
          "output_type": "execute_result",
          "data": {
            "text/plain": [
              "         genus          name  id           family             order  \\\n",
              "0        Malus         Apple   6         Rosaceae           Rosales   \n",
              "1       Prunus       Apricot  35         Rosaceae           Rosales   \n",
              "2         Musa        Banana   1         Musaceae      Zingiberales   \n",
              "3        Rubus    Blackberry  64         Rosaceae           Rosales   \n",
              "4     Fragaria     Blueberry  33         Rosaceae           Rosales   \n",
              "5       Prunus        Cherry   9         Rosaceae              None   \n",
              "6        Durio        Durian  60        Malvaceae          Malvales   \n",
              "7        Ficus           Fig  68         Moraceae           Rosales   \n",
              "8        Ribes    Gooseberry  69  Grossulariaceae      Saxifragales   \n",
              "9        Vitis        Grapes  47         Vitaceae           Vitales   \n",
              "10       Malus    GreenApple  72         Rosaceae           Rosales   \n",
              "11     Psidium         Guava  37        Myrtaceae          Myrtales   \n",
              "12     Apteryx          Kiwi  66    Actinidiaceae  Struthioniformes   \n",
              "13      Citrus         Lemon  26         Rutaceae        Sapindales   \n",
              "14      Citrus          Lime  44         Rutaceae        Sapindales   \n",
              "15   Vaccinium   Lingonberry  65        Ericaceae          Ericales   \n",
              "16      Litchi        Lychee  67      Sapindaceae        Sapindales   \n",
              "17   Mangifera         Mango  27    Anacardiaceae        Sapindales   \n",
              "18     Cucumis         Melon  41    Cucurbitaceae     Cucurbitaceae   \n",
              "19      Citrus        Orange   2         Rutaceae        Sapindales   \n",
              "20      Carica        Papaya  42       Caricaceae         Caricacea   \n",
              "21  Passiflora  Passionfruit  70   Passifloraceae      Malpighiales   \n",
              "22       Pyrus          Pear   4         Rosaceae           Rosales   \n",
              "23   Diospyros     Persimmon  52        Ebenaceae           Rosales   \n",
              "24      Ananas     Pineapple  10     Bromeliaceae            Poales   \n",
              "25      Prunus          Plum  71         Rosaceae           Rosales   \n",
              "26       Rubus     Raspberry  23         Rosaceae           Rosales   \n",
              "27    Fragaria    Strawberry   3         Rosaceae           Rosales   \n",
              "28     Solanum        Tomato   5       Solanaceae         Solanales   \n",
              "29    Spondias          Umbu  73    Anacardiaceae                 0   \n",
              "30   Citrullus    Watermelon  25    Cucurbitaceae      Cucurbitales   \n",
              "\n",
              "                                           nutritions  \n",
              "0   {'carbohydrates': 11.4, 'protein': 0.3, 'fat':...  \n",
              "1   {'carbohydrates': 3.9, 'protein': 0.5, 'fat': ...  \n",
              "2   {'carbohydrates': 22, 'protein': 1, 'fat': 0.2...  \n",
              "3   {'carbohydrates': 9, 'protein': 1.3, 'fat': 0....  \n",
              "4   {'carbohydrates': 5.5, 'protein': 0, 'fat': 0....  \n",
              "5   {'carbohydrates': 12, 'protein': 1, 'fat': 0.3...  \n",
              "6   {'carbohydrates': 27.1, 'protein': 1.5, 'fat':...  \n",
              "7   {'carbohydrates': 19, 'protein': 0.8, 'fat': 0...  \n",
              "8   {'carbohydrates': 10, 'protein': 0.9, 'fat': 0...  \n",
              "9   {'carbohydrates': 18.1, 'protein': 0.72, 'fat'...  \n",
              "10  {'carbohydrates': 3.1, 'protein': 0.4, 'fat': ...  \n",
              "11  {'carbohydrates': 14, 'protein': 2.6, 'fat': 1...  \n",
              "12  {'carbohydrates': 15, 'protein': 1.1, 'fat': 0...  \n",
              "13  {'carbohydrates': 9, 'protein': 1.1, 'fat': 0....  \n",
              "14  {'carbohydrates': 8.4, 'protein': 0.3, 'fat': ...  \n",
              "15  {'carbohydrates': 11.3, 'protein': 0.75, 'fat'...  \n",
              "16  {'carbohydrates': 17, 'protein': 0.8, 'fat': 0...  \n",
              "17  {'carbohydrates': 15, 'protein': 0.82, 'fat': ...  \n",
              "18  {'carbohydrates': 8, 'protein': 0, 'fat': 0, '...  \n",
              "19  {'carbohydrates': 8.3, 'protein': 1, 'fat': 0....  \n",
              "20  {'carbohydrates': 11, 'protein': 0, 'fat': 0.4...  \n",
              "21  {'carbohydrates': 22.4, 'protein': 2.2, 'fat':...  \n",
              "22  {'carbohydrates': 15, 'protein': 0.4, 'fat': 0...  \n",
              "23  {'carbohydrates': 18, 'protein': 0, 'fat': 0, ...  \n",
              "24  {'carbohydrates': 13.12, 'protein': 0.54, 'fat...  \n",
              "25  {'carbohydrates': 11.4, 'protein': 0.7, 'fat':...  \n",
              "26  {'carbohydrates': 12, 'protein': 1.2, 'fat': 0...  \n",
              "27  {'carbohydrates': 5.5, 'protein': 0.8, 'fat': ...  \n",
              "28  {'carbohydrates': 3.9, 'protein': 0.9, 'fat': ...  \n",
              "29  {'carbohydrates': 0, 'protein': 0, 'fat': 0, '...  \n",
              "30  {'carbohydrates': 8, 'protein': 0.6, 'fat': 0....  "
            ],
            "text/html": [
              "\n",
              "  <div id=\"df-e8aed36d-a1b9-4148-9481-b3436eb93892\">\n",
              "    <div class=\"colab-df-container\">\n",
              "      <div>\n",
              "<style scoped>\n",
              "    .dataframe tbody tr th:only-of-type {\n",
              "        vertical-align: middle;\n",
              "    }\n",
              "\n",
              "    .dataframe tbody tr th {\n",
              "        vertical-align: top;\n",
              "    }\n",
              "\n",
              "    .dataframe thead th {\n",
              "        text-align: right;\n",
              "    }\n",
              "</style>\n",
              "<table border=\"1\" class=\"dataframe\">\n",
              "  <thead>\n",
              "    <tr style=\"text-align: right;\">\n",
              "      <th></th>\n",
              "      <th>genus</th>\n",
              "      <th>name</th>\n",
              "      <th>id</th>\n",
              "      <th>family</th>\n",
              "      <th>order</th>\n",
              "      <th>nutritions</th>\n",
              "    </tr>\n",
              "  </thead>\n",
              "  <tbody>\n",
              "    <tr>\n",
              "      <th>0</th>\n",
              "      <td>Malus</td>\n",
              "      <td>Apple</td>\n",
              "      <td>6</td>\n",
              "      <td>Rosaceae</td>\n",
              "      <td>Rosales</td>\n",
              "      <td>{'carbohydrates': 11.4, 'protein': 0.3, 'fat':...</td>\n",
              "    </tr>\n",
              "    <tr>\n",
              "      <th>1</th>\n",
              "      <td>Prunus</td>\n",
              "      <td>Apricot</td>\n",
              "      <td>35</td>\n",
              "      <td>Rosaceae</td>\n",
              "      <td>Rosales</td>\n",
              "      <td>{'carbohydrates': 3.9, 'protein': 0.5, 'fat': ...</td>\n",
              "    </tr>\n",
              "    <tr>\n",
              "      <th>2</th>\n",
              "      <td>Musa</td>\n",
              "      <td>Banana</td>\n",
              "      <td>1</td>\n",
              "      <td>Musaceae</td>\n",
              "      <td>Zingiberales</td>\n",
              "      <td>{'carbohydrates': 22, 'protein': 1, 'fat': 0.2...</td>\n",
              "    </tr>\n",
              "    <tr>\n",
              "      <th>3</th>\n",
              "      <td>Rubus</td>\n",
              "      <td>Blackberry</td>\n",
              "      <td>64</td>\n",
              "      <td>Rosaceae</td>\n",
              "      <td>Rosales</td>\n",
              "      <td>{'carbohydrates': 9, 'protein': 1.3, 'fat': 0....</td>\n",
              "    </tr>\n",
              "    <tr>\n",
              "      <th>4</th>\n",
              "      <td>Fragaria</td>\n",
              "      <td>Blueberry</td>\n",
              "      <td>33</td>\n",
              "      <td>Rosaceae</td>\n",
              "      <td>Rosales</td>\n",
              "      <td>{'carbohydrates': 5.5, 'protein': 0, 'fat': 0....</td>\n",
              "    </tr>\n",
              "    <tr>\n",
              "      <th>5</th>\n",
              "      <td>Prunus</td>\n",
              "      <td>Cherry</td>\n",
              "      <td>9</td>\n",
              "      <td>Rosaceae</td>\n",
              "      <td>None</td>\n",
              "      <td>{'carbohydrates': 12, 'protein': 1, 'fat': 0.3...</td>\n",
              "    </tr>\n",
              "    <tr>\n",
              "      <th>6</th>\n",
              "      <td>Durio</td>\n",
              "      <td>Durian</td>\n",
              "      <td>60</td>\n",
              "      <td>Malvaceae</td>\n",
              "      <td>Malvales</td>\n",
              "      <td>{'carbohydrates': 27.1, 'protein': 1.5, 'fat':...</td>\n",
              "    </tr>\n",
              "    <tr>\n",
              "      <th>7</th>\n",
              "      <td>Ficus</td>\n",
              "      <td>Fig</td>\n",
              "      <td>68</td>\n",
              "      <td>Moraceae</td>\n",
              "      <td>Rosales</td>\n",
              "      <td>{'carbohydrates': 19, 'protein': 0.8, 'fat': 0...</td>\n",
              "    </tr>\n",
              "    <tr>\n",
              "      <th>8</th>\n",
              "      <td>Ribes</td>\n",
              "      <td>Gooseberry</td>\n",
              "      <td>69</td>\n",
              "      <td>Grossulariaceae</td>\n",
              "      <td>Saxifragales</td>\n",
              "      <td>{'carbohydrates': 10, 'protein': 0.9, 'fat': 0...</td>\n",
              "    </tr>\n",
              "    <tr>\n",
              "      <th>9</th>\n",
              "      <td>Vitis</td>\n",
              "      <td>Grapes</td>\n",
              "      <td>47</td>\n",
              "      <td>Vitaceae</td>\n",
              "      <td>Vitales</td>\n",
              "      <td>{'carbohydrates': 18.1, 'protein': 0.72, 'fat'...</td>\n",
              "    </tr>\n",
              "    <tr>\n",
              "      <th>10</th>\n",
              "      <td>Malus</td>\n",
              "      <td>GreenApple</td>\n",
              "      <td>72</td>\n",
              "      <td>Rosaceae</td>\n",
              "      <td>Rosales</td>\n",
              "      <td>{'carbohydrates': 3.1, 'protein': 0.4, 'fat': ...</td>\n",
              "    </tr>\n",
              "    <tr>\n",
              "      <th>11</th>\n",
              "      <td>Psidium</td>\n",
              "      <td>Guava</td>\n",
              "      <td>37</td>\n",
              "      <td>Myrtaceae</td>\n",
              "      <td>Myrtales</td>\n",
              "      <td>{'carbohydrates': 14, 'protein': 2.6, 'fat': 1...</td>\n",
              "    </tr>\n",
              "    <tr>\n",
              "      <th>12</th>\n",
              "      <td>Apteryx</td>\n",
              "      <td>Kiwi</td>\n",
              "      <td>66</td>\n",
              "      <td>Actinidiaceae</td>\n",
              "      <td>Struthioniformes</td>\n",
              "      <td>{'carbohydrates': 15, 'protein': 1.1, 'fat': 0...</td>\n",
              "    </tr>\n",
              "    <tr>\n",
              "      <th>13</th>\n",
              "      <td>Citrus</td>\n",
              "      <td>Lemon</td>\n",
              "      <td>26</td>\n",
              "      <td>Rutaceae</td>\n",
              "      <td>Sapindales</td>\n",
              "      <td>{'carbohydrates': 9, 'protein': 1.1, 'fat': 0....</td>\n",
              "    </tr>\n",
              "    <tr>\n",
              "      <th>14</th>\n",
              "      <td>Citrus</td>\n",
              "      <td>Lime</td>\n",
              "      <td>44</td>\n",
              "      <td>Rutaceae</td>\n",
              "      <td>Sapindales</td>\n",
              "      <td>{'carbohydrates': 8.4, 'protein': 0.3, 'fat': ...</td>\n",
              "    </tr>\n",
              "    <tr>\n",
              "      <th>15</th>\n",
              "      <td>Vaccinium</td>\n",
              "      <td>Lingonberry</td>\n",
              "      <td>65</td>\n",
              "      <td>Ericaceae</td>\n",
              "      <td>Ericales</td>\n",
              "      <td>{'carbohydrates': 11.3, 'protein': 0.75, 'fat'...</td>\n",
              "    </tr>\n",
              "    <tr>\n",
              "      <th>16</th>\n",
              "      <td>Litchi</td>\n",
              "      <td>Lychee</td>\n",
              "      <td>67</td>\n",
              "      <td>Sapindaceae</td>\n",
              "      <td>Sapindales</td>\n",
              "      <td>{'carbohydrates': 17, 'protein': 0.8, 'fat': 0...</td>\n",
              "    </tr>\n",
              "    <tr>\n",
              "      <th>17</th>\n",
              "      <td>Mangifera</td>\n",
              "      <td>Mango</td>\n",
              "      <td>27</td>\n",
              "      <td>Anacardiaceae</td>\n",
              "      <td>Sapindales</td>\n",
              "      <td>{'carbohydrates': 15, 'protein': 0.82, 'fat': ...</td>\n",
              "    </tr>\n",
              "    <tr>\n",
              "      <th>18</th>\n",
              "      <td>Cucumis</td>\n",
              "      <td>Melon</td>\n",
              "      <td>41</td>\n",
              "      <td>Cucurbitaceae</td>\n",
              "      <td>Cucurbitaceae</td>\n",
              "      <td>{'carbohydrates': 8, 'protein': 0, 'fat': 0, '...</td>\n",
              "    </tr>\n",
              "    <tr>\n",
              "      <th>19</th>\n",
              "      <td>Citrus</td>\n",
              "      <td>Orange</td>\n",
              "      <td>2</td>\n",
              "      <td>Rutaceae</td>\n",
              "      <td>Sapindales</td>\n",
              "      <td>{'carbohydrates': 8.3, 'protein': 1, 'fat': 0....</td>\n",
              "    </tr>\n",
              "    <tr>\n",
              "      <th>20</th>\n",
              "      <td>Carica</td>\n",
              "      <td>Papaya</td>\n",
              "      <td>42</td>\n",
              "      <td>Caricaceae</td>\n",
              "      <td>Caricacea</td>\n",
              "      <td>{'carbohydrates': 11, 'protein': 0, 'fat': 0.4...</td>\n",
              "    </tr>\n",
              "    <tr>\n",
              "      <th>21</th>\n",
              "      <td>Passiflora</td>\n",
              "      <td>Passionfruit</td>\n",
              "      <td>70</td>\n",
              "      <td>Passifloraceae</td>\n",
              "      <td>Malpighiales</td>\n",
              "      <td>{'carbohydrates': 22.4, 'protein': 2.2, 'fat':...</td>\n",
              "    </tr>\n",
              "    <tr>\n",
              "      <th>22</th>\n",
              "      <td>Pyrus</td>\n",
              "      <td>Pear</td>\n",
              "      <td>4</td>\n",
              "      <td>Rosaceae</td>\n",
              "      <td>Rosales</td>\n",
              "      <td>{'carbohydrates': 15, 'protein': 0.4, 'fat': 0...</td>\n",
              "    </tr>\n",
              "    <tr>\n",
              "      <th>23</th>\n",
              "      <td>Diospyros</td>\n",
              "      <td>Persimmon</td>\n",
              "      <td>52</td>\n",
              "      <td>Ebenaceae</td>\n",
              "      <td>Rosales</td>\n",
              "      <td>{'carbohydrates': 18, 'protein': 0, 'fat': 0, ...</td>\n",
              "    </tr>\n",
              "    <tr>\n",
              "      <th>24</th>\n",
              "      <td>Ananas</td>\n",
              "      <td>Pineapple</td>\n",
              "      <td>10</td>\n",
              "      <td>Bromeliaceae</td>\n",
              "      <td>Poales</td>\n",
              "      <td>{'carbohydrates': 13.12, 'protein': 0.54, 'fat...</td>\n",
              "    </tr>\n",
              "    <tr>\n",
              "      <th>25</th>\n",
              "      <td>Prunus</td>\n",
              "      <td>Plum</td>\n",
              "      <td>71</td>\n",
              "      <td>Rosaceae</td>\n",
              "      <td>Rosales</td>\n",
              "      <td>{'carbohydrates': 11.4, 'protein': 0.7, 'fat':...</td>\n",
              "    </tr>\n",
              "    <tr>\n",
              "      <th>26</th>\n",
              "      <td>Rubus</td>\n",
              "      <td>Raspberry</td>\n",
              "      <td>23</td>\n",
              "      <td>Rosaceae</td>\n",
              "      <td>Rosales</td>\n",
              "      <td>{'carbohydrates': 12, 'protein': 1.2, 'fat': 0...</td>\n",
              "    </tr>\n",
              "    <tr>\n",
              "      <th>27</th>\n",
              "      <td>Fragaria</td>\n",
              "      <td>Strawberry</td>\n",
              "      <td>3</td>\n",
              "      <td>Rosaceae</td>\n",
              "      <td>Rosales</td>\n",
              "      <td>{'carbohydrates': 5.5, 'protein': 0.8, 'fat': ...</td>\n",
              "    </tr>\n",
              "    <tr>\n",
              "      <th>28</th>\n",
              "      <td>Solanum</td>\n",
              "      <td>Tomato</td>\n",
              "      <td>5</td>\n",
              "      <td>Solanaceae</td>\n",
              "      <td>Solanales</td>\n",
              "      <td>{'carbohydrates': 3.9, 'protein': 0.9, 'fat': ...</td>\n",
              "    </tr>\n",
              "    <tr>\n",
              "      <th>29</th>\n",
              "      <td>Spondias</td>\n",
              "      <td>Umbu</td>\n",
              "      <td>73</td>\n",
              "      <td>Anacardiaceae</td>\n",
              "      <td>0</td>\n",
              "      <td>{'carbohydrates': 0, 'protein': 0, 'fat': 0, '...</td>\n",
              "    </tr>\n",
              "    <tr>\n",
              "      <th>30</th>\n",
              "      <td>Citrullus</td>\n",
              "      <td>Watermelon</td>\n",
              "      <td>25</td>\n",
              "      <td>Cucurbitaceae</td>\n",
              "      <td>Cucurbitales</td>\n",
              "      <td>{'carbohydrates': 8, 'protein': 0.6, 'fat': 0....</td>\n",
              "    </tr>\n",
              "  </tbody>\n",
              "</table>\n",
              "</div>\n",
              "      <button class=\"colab-df-convert\" onclick=\"convertToInteractive('df-e8aed36d-a1b9-4148-9481-b3436eb93892')\"\n",
              "              title=\"Convert this dataframe to an interactive table.\"\n",
              "              style=\"display:none;\">\n",
              "        \n",
              "  <svg xmlns=\"http://www.w3.org/2000/svg\" height=\"24px\"viewBox=\"0 0 24 24\"\n",
              "       width=\"24px\">\n",
              "    <path d=\"M0 0h24v24H0V0z\" fill=\"none\"/>\n",
              "    <path d=\"M18.56 5.44l.94 2.06.94-2.06 2.06-.94-2.06-.94-.94-2.06-.94 2.06-2.06.94zm-11 1L8.5 8.5l.94-2.06 2.06-.94-2.06-.94L8.5 2.5l-.94 2.06-2.06.94zm10 10l.94 2.06.94-2.06 2.06-.94-2.06-.94-.94-2.06-.94 2.06-2.06.94z\"/><path d=\"M17.41 7.96l-1.37-1.37c-.4-.4-.92-.59-1.43-.59-.52 0-1.04.2-1.43.59L10.3 9.45l-7.72 7.72c-.78.78-.78 2.05 0 2.83L4 21.41c.39.39.9.59 1.41.59.51 0 1.02-.2 1.41-.59l7.78-7.78 2.81-2.81c.8-.78.8-2.07 0-2.86zM5.41 20L4 18.59l7.72-7.72 1.47 1.35L5.41 20z\"/>\n",
              "  </svg>\n",
              "      </button>\n",
              "      \n",
              "  <style>\n",
              "    .colab-df-container {\n",
              "      display:flex;\n",
              "      flex-wrap:wrap;\n",
              "      gap: 12px;\n",
              "    }\n",
              "\n",
              "    .colab-df-convert {\n",
              "      background-color: #E8F0FE;\n",
              "      border: none;\n",
              "      border-radius: 50%;\n",
              "      cursor: pointer;\n",
              "      display: none;\n",
              "      fill: #1967D2;\n",
              "      height: 32px;\n",
              "      padding: 0 0 0 0;\n",
              "      width: 32px;\n",
              "    }\n",
              "\n",
              "    .colab-df-convert:hover {\n",
              "      background-color: #E2EBFA;\n",
              "      box-shadow: 0px 1px 2px rgba(60, 64, 67, 0.3), 0px 1px 3px 1px rgba(60, 64, 67, 0.15);\n",
              "      fill: #174EA6;\n",
              "    }\n",
              "\n",
              "    [theme=dark] .colab-df-convert {\n",
              "      background-color: #3B4455;\n",
              "      fill: #D2E3FC;\n",
              "    }\n",
              "\n",
              "    [theme=dark] .colab-df-convert:hover {\n",
              "      background-color: #434B5C;\n",
              "      box-shadow: 0px 1px 3px 1px rgba(0, 0, 0, 0.15);\n",
              "      filter: drop-shadow(0px 1px 2px rgba(0, 0, 0, 0.3));\n",
              "      fill: #FFFFFF;\n",
              "    }\n",
              "  </style>\n",
              "\n",
              "      <script>\n",
              "        const buttonEl =\n",
              "          document.querySelector('#df-e8aed36d-a1b9-4148-9481-b3436eb93892 button.colab-df-convert');\n",
              "        buttonEl.style.display =\n",
              "          google.colab.kernel.accessAllowed ? 'block' : 'none';\n",
              "\n",
              "        async function convertToInteractive(key) {\n",
              "          const element = document.querySelector('#df-e8aed36d-a1b9-4148-9481-b3436eb93892');\n",
              "          const dataTable =\n",
              "            await google.colab.kernel.invokeFunction('convertToInteractive',\n",
              "                                                     [key], {});\n",
              "          if (!dataTable) return;\n",
              "\n",
              "          const docLinkHtml = 'Like what you see? Visit the ' +\n",
              "            '<a target=\"_blank\" href=https://colab.research.google.com/notebooks/data_table.ipynb>data table notebook</a>'\n",
              "            + ' to learn more about interactive tables.';\n",
              "          element.innerHTML = '';\n",
              "          dataTable['output_type'] = 'display_data';\n",
              "          await google.colab.output.renderOutput(dataTable, element);\n",
              "          const docLink = document.createElement('div');\n",
              "          docLink.innerHTML = docLinkHtml;\n",
              "          element.appendChild(docLink);\n",
              "        }\n",
              "      </script>\n",
              "    </div>\n",
              "  </div>\n",
              "  "
            ]
          },
          "metadata": {},
          "execution_count": 75
        }
      ]
    },
    {
      "cell_type": "code",
      "source": [
        "df2 = pd.json_normalize(results)\n",
        "\n",
        "df2"
      ],
      "metadata": {
        "colab": {
          "base_uri": "https://localhost:8080/",
          "height": 1000
        },
        "id": "sKT6aEIwLpM0",
        "outputId": "608c1d0f-2087-4d5b-8009-c1bc9ce8fce2"
      },
      "execution_count": null,
      "outputs": [
        {
          "output_type": "execute_result",
          "data": {
            "text/plain": [
              "         genus          name  id           family             order  \\\n",
              "0        Malus         Apple   6         Rosaceae           Rosales   \n",
              "1       Prunus       Apricot  35         Rosaceae           Rosales   \n",
              "2         Musa        Banana   1         Musaceae      Zingiberales   \n",
              "3        Rubus    Blackberry  64         Rosaceae           Rosales   \n",
              "4     Fragaria     Blueberry  33         Rosaceae           Rosales   \n",
              "5       Prunus        Cherry   9         Rosaceae              None   \n",
              "6        Durio        Durian  60        Malvaceae          Malvales   \n",
              "7        Ficus           Fig  68         Moraceae           Rosales   \n",
              "8        Ribes    Gooseberry  69  Grossulariaceae      Saxifragales   \n",
              "9        Vitis        Grapes  47         Vitaceae           Vitales   \n",
              "10       Malus    GreenApple  72         Rosaceae           Rosales   \n",
              "11     Psidium         Guava  37        Myrtaceae          Myrtales   \n",
              "12     Apteryx          Kiwi  66    Actinidiaceae  Struthioniformes   \n",
              "13      Citrus         Lemon  26         Rutaceae        Sapindales   \n",
              "14      Citrus          Lime  44         Rutaceae        Sapindales   \n",
              "15   Vaccinium   Lingonberry  65        Ericaceae          Ericales   \n",
              "16      Litchi        Lychee  67      Sapindaceae        Sapindales   \n",
              "17   Mangifera         Mango  27    Anacardiaceae        Sapindales   \n",
              "18     Cucumis         Melon  41    Cucurbitaceae     Cucurbitaceae   \n",
              "19      Citrus        Orange   2         Rutaceae        Sapindales   \n",
              "20      Carica        Papaya  42       Caricaceae         Caricacea   \n",
              "21  Passiflora  Passionfruit  70   Passifloraceae      Malpighiales   \n",
              "22       Pyrus          Pear   4         Rosaceae           Rosales   \n",
              "23   Diospyros     Persimmon  52        Ebenaceae           Rosales   \n",
              "24      Ananas     Pineapple  10     Bromeliaceae            Poales   \n",
              "25      Prunus          Plum  71         Rosaceae           Rosales   \n",
              "26       Rubus     Raspberry  23         Rosaceae           Rosales   \n",
              "27    Fragaria    Strawberry   3         Rosaceae           Rosales   \n",
              "28     Solanum        Tomato   5       Solanaceae         Solanales   \n",
              "29    Spondias          Umbu  73    Anacardiaceae                 0   \n",
              "30   Citrullus    Watermelon  25    Cucurbitaceae      Cucurbitales   \n",
              "\n",
              "    nutritions.carbohydrates  nutritions.protein  nutritions.fat  \\\n",
              "0                      11.40                0.30            0.40   \n",
              "1                       3.90                0.50            0.10   \n",
              "2                      22.00                1.00            0.20   \n",
              "3                       9.00                1.30            0.40   \n",
              "4                       5.50                0.00            0.40   \n",
              "5                      12.00                1.00            0.30   \n",
              "6                      27.10                1.50            5.30   \n",
              "7                      19.00                0.80            0.30   \n",
              "8                      10.00                0.90            0.60   \n",
              "9                      18.10                0.72            0.16   \n",
              "10                      3.10                0.40            0.10   \n",
              "11                     14.00                2.60            1.00   \n",
              "12                     15.00                1.10            0.50   \n",
              "13                      9.00                1.10            0.30   \n",
              "14                      8.40                0.30            0.10   \n",
              "15                     11.30                0.75            0.34   \n",
              "16                     17.00                0.80            0.44   \n",
              "17                     15.00                0.82            0.38   \n",
              "18                      8.00                0.00            0.00   \n",
              "19                      8.30                1.00            0.20   \n",
              "20                     11.00                0.00            0.40   \n",
              "21                     22.40                2.20            0.70   \n",
              "22                     15.00                0.40            0.10   \n",
              "23                     18.00                0.00            0.00   \n",
              "24                     13.12                0.54            0.12   \n",
              "25                     11.40                0.70            0.28   \n",
              "26                     12.00                1.20            0.70   \n",
              "27                      5.50                0.80            0.40   \n",
              "28                      3.90                0.90            0.20   \n",
              "29                      0.00                0.00            0.00   \n",
              "30                      8.00                0.60            0.20   \n",
              "\n",
              "    nutritions.calories  nutritions.sugar  \n",
              "0                    52             10.30  \n",
              "1                    15              3.20  \n",
              "2                    96             17.20  \n",
              "3                    40              4.50  \n",
              "4                    29              5.40  \n",
              "5                    50              8.00  \n",
              "6                   147              6.75  \n",
              "7                    74             16.00  \n",
              "8                    44              0.00  \n",
              "9                    69             15.48  \n",
              "10                   21              6.40  \n",
              "11                   68              9.00  \n",
              "12                   61              9.00  \n",
              "13                   29              2.50  \n",
              "14                   25              1.70  \n",
              "15                   50              5.74  \n",
              "16                   66             15.00  \n",
              "17                   60             13.70  \n",
              "18                   34              8.00  \n",
              "19                   43              8.20  \n",
              "20                   43              1.00  \n",
              "21                   97             11.20  \n",
              "22                   57             10.00  \n",
              "23                   81             18.00  \n",
              "24                   50              9.85  \n",
              "25                   46              9.92  \n",
              "26                   53              4.40  \n",
              "27                   29              5.40  \n",
              "28                   74              2.60  \n",
              "29                    0              0.00  \n",
              "30                   30              6.00  "
            ],
            "text/html": [
              "\n",
              "  <div id=\"df-1758974d-12c4-4313-ab9f-50d349168d78\">\n",
              "    <div class=\"colab-df-container\">\n",
              "      <div>\n",
              "<style scoped>\n",
              "    .dataframe tbody tr th:only-of-type {\n",
              "        vertical-align: middle;\n",
              "    }\n",
              "\n",
              "    .dataframe tbody tr th {\n",
              "        vertical-align: top;\n",
              "    }\n",
              "\n",
              "    .dataframe thead th {\n",
              "        text-align: right;\n",
              "    }\n",
              "</style>\n",
              "<table border=\"1\" class=\"dataframe\">\n",
              "  <thead>\n",
              "    <tr style=\"text-align: right;\">\n",
              "      <th></th>\n",
              "      <th>genus</th>\n",
              "      <th>name</th>\n",
              "      <th>id</th>\n",
              "      <th>family</th>\n",
              "      <th>order</th>\n",
              "      <th>nutritions.carbohydrates</th>\n",
              "      <th>nutritions.protein</th>\n",
              "      <th>nutritions.fat</th>\n",
              "      <th>nutritions.calories</th>\n",
              "      <th>nutritions.sugar</th>\n",
              "    </tr>\n",
              "  </thead>\n",
              "  <tbody>\n",
              "    <tr>\n",
              "      <th>0</th>\n",
              "      <td>Malus</td>\n",
              "      <td>Apple</td>\n",
              "      <td>6</td>\n",
              "      <td>Rosaceae</td>\n",
              "      <td>Rosales</td>\n",
              "      <td>11.40</td>\n",
              "      <td>0.30</td>\n",
              "      <td>0.40</td>\n",
              "      <td>52</td>\n",
              "      <td>10.30</td>\n",
              "    </tr>\n",
              "    <tr>\n",
              "      <th>1</th>\n",
              "      <td>Prunus</td>\n",
              "      <td>Apricot</td>\n",
              "      <td>35</td>\n",
              "      <td>Rosaceae</td>\n",
              "      <td>Rosales</td>\n",
              "      <td>3.90</td>\n",
              "      <td>0.50</td>\n",
              "      <td>0.10</td>\n",
              "      <td>15</td>\n",
              "      <td>3.20</td>\n",
              "    </tr>\n",
              "    <tr>\n",
              "      <th>2</th>\n",
              "      <td>Musa</td>\n",
              "      <td>Banana</td>\n",
              "      <td>1</td>\n",
              "      <td>Musaceae</td>\n",
              "      <td>Zingiberales</td>\n",
              "      <td>22.00</td>\n",
              "      <td>1.00</td>\n",
              "      <td>0.20</td>\n",
              "      <td>96</td>\n",
              "      <td>17.20</td>\n",
              "    </tr>\n",
              "    <tr>\n",
              "      <th>3</th>\n",
              "      <td>Rubus</td>\n",
              "      <td>Blackberry</td>\n",
              "      <td>64</td>\n",
              "      <td>Rosaceae</td>\n",
              "      <td>Rosales</td>\n",
              "      <td>9.00</td>\n",
              "      <td>1.30</td>\n",
              "      <td>0.40</td>\n",
              "      <td>40</td>\n",
              "      <td>4.50</td>\n",
              "    </tr>\n",
              "    <tr>\n",
              "      <th>4</th>\n",
              "      <td>Fragaria</td>\n",
              "      <td>Blueberry</td>\n",
              "      <td>33</td>\n",
              "      <td>Rosaceae</td>\n",
              "      <td>Rosales</td>\n",
              "      <td>5.50</td>\n",
              "      <td>0.00</td>\n",
              "      <td>0.40</td>\n",
              "      <td>29</td>\n",
              "      <td>5.40</td>\n",
              "    </tr>\n",
              "    <tr>\n",
              "      <th>5</th>\n",
              "      <td>Prunus</td>\n",
              "      <td>Cherry</td>\n",
              "      <td>9</td>\n",
              "      <td>Rosaceae</td>\n",
              "      <td>None</td>\n",
              "      <td>12.00</td>\n",
              "      <td>1.00</td>\n",
              "      <td>0.30</td>\n",
              "      <td>50</td>\n",
              "      <td>8.00</td>\n",
              "    </tr>\n",
              "    <tr>\n",
              "      <th>6</th>\n",
              "      <td>Durio</td>\n",
              "      <td>Durian</td>\n",
              "      <td>60</td>\n",
              "      <td>Malvaceae</td>\n",
              "      <td>Malvales</td>\n",
              "      <td>27.10</td>\n",
              "      <td>1.50</td>\n",
              "      <td>5.30</td>\n",
              "      <td>147</td>\n",
              "      <td>6.75</td>\n",
              "    </tr>\n",
              "    <tr>\n",
              "      <th>7</th>\n",
              "      <td>Ficus</td>\n",
              "      <td>Fig</td>\n",
              "      <td>68</td>\n",
              "      <td>Moraceae</td>\n",
              "      <td>Rosales</td>\n",
              "      <td>19.00</td>\n",
              "      <td>0.80</td>\n",
              "      <td>0.30</td>\n",
              "      <td>74</td>\n",
              "      <td>16.00</td>\n",
              "    </tr>\n",
              "    <tr>\n",
              "      <th>8</th>\n",
              "      <td>Ribes</td>\n",
              "      <td>Gooseberry</td>\n",
              "      <td>69</td>\n",
              "      <td>Grossulariaceae</td>\n",
              "      <td>Saxifragales</td>\n",
              "      <td>10.00</td>\n",
              "      <td>0.90</td>\n",
              "      <td>0.60</td>\n",
              "      <td>44</td>\n",
              "      <td>0.00</td>\n",
              "    </tr>\n",
              "    <tr>\n",
              "      <th>9</th>\n",
              "      <td>Vitis</td>\n",
              "      <td>Grapes</td>\n",
              "      <td>47</td>\n",
              "      <td>Vitaceae</td>\n",
              "      <td>Vitales</td>\n",
              "      <td>18.10</td>\n",
              "      <td>0.72</td>\n",
              "      <td>0.16</td>\n",
              "      <td>69</td>\n",
              "      <td>15.48</td>\n",
              "    </tr>\n",
              "    <tr>\n",
              "      <th>10</th>\n",
              "      <td>Malus</td>\n",
              "      <td>GreenApple</td>\n",
              "      <td>72</td>\n",
              "      <td>Rosaceae</td>\n",
              "      <td>Rosales</td>\n",
              "      <td>3.10</td>\n",
              "      <td>0.40</td>\n",
              "      <td>0.10</td>\n",
              "      <td>21</td>\n",
              "      <td>6.40</td>\n",
              "    </tr>\n",
              "    <tr>\n",
              "      <th>11</th>\n",
              "      <td>Psidium</td>\n",
              "      <td>Guava</td>\n",
              "      <td>37</td>\n",
              "      <td>Myrtaceae</td>\n",
              "      <td>Myrtales</td>\n",
              "      <td>14.00</td>\n",
              "      <td>2.60</td>\n",
              "      <td>1.00</td>\n",
              "      <td>68</td>\n",
              "      <td>9.00</td>\n",
              "    </tr>\n",
              "    <tr>\n",
              "      <th>12</th>\n",
              "      <td>Apteryx</td>\n",
              "      <td>Kiwi</td>\n",
              "      <td>66</td>\n",
              "      <td>Actinidiaceae</td>\n",
              "      <td>Struthioniformes</td>\n",
              "      <td>15.00</td>\n",
              "      <td>1.10</td>\n",
              "      <td>0.50</td>\n",
              "      <td>61</td>\n",
              "      <td>9.00</td>\n",
              "    </tr>\n",
              "    <tr>\n",
              "      <th>13</th>\n",
              "      <td>Citrus</td>\n",
              "      <td>Lemon</td>\n",
              "      <td>26</td>\n",
              "      <td>Rutaceae</td>\n",
              "      <td>Sapindales</td>\n",
              "      <td>9.00</td>\n",
              "      <td>1.10</td>\n",
              "      <td>0.30</td>\n",
              "      <td>29</td>\n",
              "      <td>2.50</td>\n",
              "    </tr>\n",
              "    <tr>\n",
              "      <th>14</th>\n",
              "      <td>Citrus</td>\n",
              "      <td>Lime</td>\n",
              "      <td>44</td>\n",
              "      <td>Rutaceae</td>\n",
              "      <td>Sapindales</td>\n",
              "      <td>8.40</td>\n",
              "      <td>0.30</td>\n",
              "      <td>0.10</td>\n",
              "      <td>25</td>\n",
              "      <td>1.70</td>\n",
              "    </tr>\n",
              "    <tr>\n",
              "      <th>15</th>\n",
              "      <td>Vaccinium</td>\n",
              "      <td>Lingonberry</td>\n",
              "      <td>65</td>\n",
              "      <td>Ericaceae</td>\n",
              "      <td>Ericales</td>\n",
              "      <td>11.30</td>\n",
              "      <td>0.75</td>\n",
              "      <td>0.34</td>\n",
              "      <td>50</td>\n",
              "      <td>5.74</td>\n",
              "    </tr>\n",
              "    <tr>\n",
              "      <th>16</th>\n",
              "      <td>Litchi</td>\n",
              "      <td>Lychee</td>\n",
              "      <td>67</td>\n",
              "      <td>Sapindaceae</td>\n",
              "      <td>Sapindales</td>\n",
              "      <td>17.00</td>\n",
              "      <td>0.80</td>\n",
              "      <td>0.44</td>\n",
              "      <td>66</td>\n",
              "      <td>15.00</td>\n",
              "    </tr>\n",
              "    <tr>\n",
              "      <th>17</th>\n",
              "      <td>Mangifera</td>\n",
              "      <td>Mango</td>\n",
              "      <td>27</td>\n",
              "      <td>Anacardiaceae</td>\n",
              "      <td>Sapindales</td>\n",
              "      <td>15.00</td>\n",
              "      <td>0.82</td>\n",
              "      <td>0.38</td>\n",
              "      <td>60</td>\n",
              "      <td>13.70</td>\n",
              "    </tr>\n",
              "    <tr>\n",
              "      <th>18</th>\n",
              "      <td>Cucumis</td>\n",
              "      <td>Melon</td>\n",
              "      <td>41</td>\n",
              "      <td>Cucurbitaceae</td>\n",
              "      <td>Cucurbitaceae</td>\n",
              "      <td>8.00</td>\n",
              "      <td>0.00</td>\n",
              "      <td>0.00</td>\n",
              "      <td>34</td>\n",
              "      <td>8.00</td>\n",
              "    </tr>\n",
              "    <tr>\n",
              "      <th>19</th>\n",
              "      <td>Citrus</td>\n",
              "      <td>Orange</td>\n",
              "      <td>2</td>\n",
              "      <td>Rutaceae</td>\n",
              "      <td>Sapindales</td>\n",
              "      <td>8.30</td>\n",
              "      <td>1.00</td>\n",
              "      <td>0.20</td>\n",
              "      <td>43</td>\n",
              "      <td>8.20</td>\n",
              "    </tr>\n",
              "    <tr>\n",
              "      <th>20</th>\n",
              "      <td>Carica</td>\n",
              "      <td>Papaya</td>\n",
              "      <td>42</td>\n",
              "      <td>Caricaceae</td>\n",
              "      <td>Caricacea</td>\n",
              "      <td>11.00</td>\n",
              "      <td>0.00</td>\n",
              "      <td>0.40</td>\n",
              "      <td>43</td>\n",
              "      <td>1.00</td>\n",
              "    </tr>\n",
              "    <tr>\n",
              "      <th>21</th>\n",
              "      <td>Passiflora</td>\n",
              "      <td>Passionfruit</td>\n",
              "      <td>70</td>\n",
              "      <td>Passifloraceae</td>\n",
              "      <td>Malpighiales</td>\n",
              "      <td>22.40</td>\n",
              "      <td>2.20</td>\n",
              "      <td>0.70</td>\n",
              "      <td>97</td>\n",
              "      <td>11.20</td>\n",
              "    </tr>\n",
              "    <tr>\n",
              "      <th>22</th>\n",
              "      <td>Pyrus</td>\n",
              "      <td>Pear</td>\n",
              "      <td>4</td>\n",
              "      <td>Rosaceae</td>\n",
              "      <td>Rosales</td>\n",
              "      <td>15.00</td>\n",
              "      <td>0.40</td>\n",
              "      <td>0.10</td>\n",
              "      <td>57</td>\n",
              "      <td>10.00</td>\n",
              "    </tr>\n",
              "    <tr>\n",
              "      <th>23</th>\n",
              "      <td>Diospyros</td>\n",
              "      <td>Persimmon</td>\n",
              "      <td>52</td>\n",
              "      <td>Ebenaceae</td>\n",
              "      <td>Rosales</td>\n",
              "      <td>18.00</td>\n",
              "      <td>0.00</td>\n",
              "      <td>0.00</td>\n",
              "      <td>81</td>\n",
              "      <td>18.00</td>\n",
              "    </tr>\n",
              "    <tr>\n",
              "      <th>24</th>\n",
              "      <td>Ananas</td>\n",
              "      <td>Pineapple</td>\n",
              "      <td>10</td>\n",
              "      <td>Bromeliaceae</td>\n",
              "      <td>Poales</td>\n",
              "      <td>13.12</td>\n",
              "      <td>0.54</td>\n",
              "      <td>0.12</td>\n",
              "      <td>50</td>\n",
              "      <td>9.85</td>\n",
              "    </tr>\n",
              "    <tr>\n",
              "      <th>25</th>\n",
              "      <td>Prunus</td>\n",
              "      <td>Plum</td>\n",
              "      <td>71</td>\n",
              "      <td>Rosaceae</td>\n",
              "      <td>Rosales</td>\n",
              "      <td>11.40</td>\n",
              "      <td>0.70</td>\n",
              "      <td>0.28</td>\n",
              "      <td>46</td>\n",
              "      <td>9.92</td>\n",
              "    </tr>\n",
              "    <tr>\n",
              "      <th>26</th>\n",
              "      <td>Rubus</td>\n",
              "      <td>Raspberry</td>\n",
              "      <td>23</td>\n",
              "      <td>Rosaceae</td>\n",
              "      <td>Rosales</td>\n",
              "      <td>12.00</td>\n",
              "      <td>1.20</td>\n",
              "      <td>0.70</td>\n",
              "      <td>53</td>\n",
              "      <td>4.40</td>\n",
              "    </tr>\n",
              "    <tr>\n",
              "      <th>27</th>\n",
              "      <td>Fragaria</td>\n",
              "      <td>Strawberry</td>\n",
              "      <td>3</td>\n",
              "      <td>Rosaceae</td>\n",
              "      <td>Rosales</td>\n",
              "      <td>5.50</td>\n",
              "      <td>0.80</td>\n",
              "      <td>0.40</td>\n",
              "      <td>29</td>\n",
              "      <td>5.40</td>\n",
              "    </tr>\n",
              "    <tr>\n",
              "      <th>28</th>\n",
              "      <td>Solanum</td>\n",
              "      <td>Tomato</td>\n",
              "      <td>5</td>\n",
              "      <td>Solanaceae</td>\n",
              "      <td>Solanales</td>\n",
              "      <td>3.90</td>\n",
              "      <td>0.90</td>\n",
              "      <td>0.20</td>\n",
              "      <td>74</td>\n",
              "      <td>2.60</td>\n",
              "    </tr>\n",
              "    <tr>\n",
              "      <th>29</th>\n",
              "      <td>Spondias</td>\n",
              "      <td>Umbu</td>\n",
              "      <td>73</td>\n",
              "      <td>Anacardiaceae</td>\n",
              "      <td>0</td>\n",
              "      <td>0.00</td>\n",
              "      <td>0.00</td>\n",
              "      <td>0.00</td>\n",
              "      <td>0</td>\n",
              "      <td>0.00</td>\n",
              "    </tr>\n",
              "    <tr>\n",
              "      <th>30</th>\n",
              "      <td>Citrullus</td>\n",
              "      <td>Watermelon</td>\n",
              "      <td>25</td>\n",
              "      <td>Cucurbitaceae</td>\n",
              "      <td>Cucurbitales</td>\n",
              "      <td>8.00</td>\n",
              "      <td>0.60</td>\n",
              "      <td>0.20</td>\n",
              "      <td>30</td>\n",
              "      <td>6.00</td>\n",
              "    </tr>\n",
              "  </tbody>\n",
              "</table>\n",
              "</div>\n",
              "      <button class=\"colab-df-convert\" onclick=\"convertToInteractive('df-1758974d-12c4-4313-ab9f-50d349168d78')\"\n",
              "              title=\"Convert this dataframe to an interactive table.\"\n",
              "              style=\"display:none;\">\n",
              "        \n",
              "  <svg xmlns=\"http://www.w3.org/2000/svg\" height=\"24px\"viewBox=\"0 0 24 24\"\n",
              "       width=\"24px\">\n",
              "    <path d=\"M0 0h24v24H0V0z\" fill=\"none\"/>\n",
              "    <path d=\"M18.56 5.44l.94 2.06.94-2.06 2.06-.94-2.06-.94-.94-2.06-.94 2.06-2.06.94zm-11 1L8.5 8.5l.94-2.06 2.06-.94-2.06-.94L8.5 2.5l-.94 2.06-2.06.94zm10 10l.94 2.06.94-2.06 2.06-.94-2.06-.94-.94-2.06-.94 2.06-2.06.94z\"/><path d=\"M17.41 7.96l-1.37-1.37c-.4-.4-.92-.59-1.43-.59-.52 0-1.04.2-1.43.59L10.3 9.45l-7.72 7.72c-.78.78-.78 2.05 0 2.83L4 21.41c.39.39.9.59 1.41.59.51 0 1.02-.2 1.41-.59l7.78-7.78 2.81-2.81c.8-.78.8-2.07 0-2.86zM5.41 20L4 18.59l7.72-7.72 1.47 1.35L5.41 20z\"/>\n",
              "  </svg>\n",
              "      </button>\n",
              "      \n",
              "  <style>\n",
              "    .colab-df-container {\n",
              "      display:flex;\n",
              "      flex-wrap:wrap;\n",
              "      gap: 12px;\n",
              "    }\n",
              "\n",
              "    .colab-df-convert {\n",
              "      background-color: #E8F0FE;\n",
              "      border: none;\n",
              "      border-radius: 50%;\n",
              "      cursor: pointer;\n",
              "      display: none;\n",
              "      fill: #1967D2;\n",
              "      height: 32px;\n",
              "      padding: 0 0 0 0;\n",
              "      width: 32px;\n",
              "    }\n",
              "\n",
              "    .colab-df-convert:hover {\n",
              "      background-color: #E2EBFA;\n",
              "      box-shadow: 0px 1px 2px rgba(60, 64, 67, 0.3), 0px 1px 3px 1px rgba(60, 64, 67, 0.15);\n",
              "      fill: #174EA6;\n",
              "    }\n",
              "\n",
              "    [theme=dark] .colab-df-convert {\n",
              "      background-color: #3B4455;\n",
              "      fill: #D2E3FC;\n",
              "    }\n",
              "\n",
              "    [theme=dark] .colab-df-convert:hover {\n",
              "      background-color: #434B5C;\n",
              "      box-shadow: 0px 1px 3px 1px rgba(0, 0, 0, 0.15);\n",
              "      filter: drop-shadow(0px 1px 2px rgba(0, 0, 0, 0.3));\n",
              "      fill: #FFFFFF;\n",
              "    }\n",
              "  </style>\n",
              "\n",
              "      <script>\n",
              "        const buttonEl =\n",
              "          document.querySelector('#df-1758974d-12c4-4313-ab9f-50d349168d78 button.colab-df-convert');\n",
              "        buttonEl.style.display =\n",
              "          google.colab.kernel.accessAllowed ? 'block' : 'none';\n",
              "\n",
              "        async function convertToInteractive(key) {\n",
              "          const element = document.querySelector('#df-1758974d-12c4-4313-ab9f-50d349168d78');\n",
              "          const dataTable =\n",
              "            await google.colab.kernel.invokeFunction('convertToInteractive',\n",
              "                                                     [key], {});\n",
              "          if (!dataTable) return;\n",
              "\n",
              "          const docLinkHtml = 'Like what you see? Visit the ' +\n",
              "            '<a target=\"_blank\" href=https://colab.research.google.com/notebooks/data_table.ipynb>data table notebook</a>'\n",
              "            + ' to learn more about interactive tables.';\n",
              "          element.innerHTML = '';\n",
              "          dataTable['output_type'] = 'display_data';\n",
              "          await google.colab.output.renderOutput(dataTable, element);\n",
              "          const docLink = document.createElement('div');\n",
              "          docLink.innerHTML = docLinkHtml;\n",
              "          element.appendChild(docLink);\n",
              "        }\n",
              "      </script>\n",
              "    </div>\n",
              "  </div>\n",
              "  "
            ]
          },
          "metadata": {},
          "execution_count": 76
        }
      ]
    },
    {
      "cell_type": "code",
      "source": [
        "cherry = df2.loc[df2[\"name\"] == 'Cherry']\n",
        "(cherry.iloc[0]['family']) , (cherry.iloc[0]['genus'])"
      ],
      "metadata": {
        "colab": {
          "base_uri": "https://localhost:8080/"
        },
        "id": "bQxmTnnCLt1D",
        "outputId": "c594d1a9-c8fd-4e8c-bac2-7f1604a9195f"
      },
      "execution_count": null,
      "outputs": [
        {
          "output_type": "execute_result",
          "data": {
            "text/plain": [
              "('Rosaceae', 'Prunus')"
            ]
          },
          "metadata": {},
          "execution_count": 77
        }
      ]
    },
    {
      "cell_type": "code",
      "source": [
        "cal_banana = df2.loc[df2[\"name\"] == 'Banana']\n",
        "cal_banana.iloc[0]['nutritions.calories']"
      ],
      "metadata": {
        "colab": {
          "base_uri": "https://localhost:8080/"
        },
        "id": "Hj_VDl7qLxpJ",
        "outputId": "c314ffb3-5799-482e-800f-5d08dbba5219"
      },
      "execution_count": null,
      "outputs": [
        {
          "output_type": "execute_result",
          "data": {
            "text/plain": [
              "96"
            ]
          },
          "metadata": {},
          "execution_count": 78
        }
      ]
    },
    {
      "cell_type": "code",
      "source": [
        "#Using requests.get(\"url\") function, load your data.\n",
        "data2 = requests.get(\"https://www.fishwatch.gov/api/species\")"
      ],
      "metadata": {
        "id": "6qHtgYHoL2IU"
      },
      "execution_count": null,
      "outputs": []
    },
    {
      "cell_type": "code",
      "source": [
        "#Retrieve results using json.loads() function.\n",
        "results2 = json.loads(data2.text)"
      ],
      "metadata": {
        "id": "aP-n_Sq8L7qS"
      },
      "execution_count": null,
      "outputs": []
    },
    {
      "cell_type": "code",
      "source": [
        "#Convert json data into pandas data frame.\n",
        "df3 = pd.DataFrame(results2)\n",
        "df3"
      ],
      "metadata": {
        "colab": {
          "base_uri": "https://localhost:8080/",
          "height": 1000
        },
        "id": "bFN9R4OpMBeo",
        "outputId": "4fb3cefa-0a32-43a8-9fa0-ceeb245123d9"
      },
      "execution_count": null,
      "outputs": [
        {
          "output_type": "execute_result",
          "data": {
            "text/plain": [
              "                                    Fishery Management  \\\n",
              "0    <ul>\\n<li><a href=\"https://www.fisheries.noaa....   \n",
              "1    <ul>\\n<li><a href=\"https://www.fisheries.noaa....   \n",
              "2    <ul>\\n<li>\\n<p><a href=\"https://archive.fisher...   \n",
              "3    <ul>\\n<li><a href=\"https://www.fisheries.noaa....   \n",
              "4    <ul>\\n<li>The states and <a href=\"https://www....   \n",
              "..                                                 ...   \n",
              "111  <ul>\\n<li><a href=\"https://www.fisheries.noaa....   \n",
              "112  <ul>\\n<li><a href=\"https://www.greateratlantic...   \n",
              "113  <ul>\\n<li><a href=\"http://sero.nmfs.noaa.gov/\"...   \n",
              "114  <ul>\\n<li><a href=\"https://sero.nmfs.noaa.gov/...   \n",
              "115  <ul>\\n<li>There are two stocks of Atlantic cod...   \n",
              "\n",
              "                                               Habitat  \\\n",
              "0                                                 None   \n",
              "1    <ul>\\n<li>White hake are groundfish, meaning t...   \n",
              "2    <ul>\\n<li>Atlantic chub mackerel are a schooli...   \n",
              "3    <ul>\\n<li>Shortfin squid live in deep and shal...   \n",
              "4    <ul>\\n<li>American lobsters live on the ocean ...   \n",
              "..                                                 ...   \n",
              "111  <ul>\\n<li>Younger pollock live in the mid-wate...   \n",
              "112  <ul>\\n<li>Monkfish live on the ocean floor, ty...   \n",
              "113  <ul>\\n<li>Mahi mahi live near the surface in t...   \n",
              "114  <ul>\\n<li>Cobia are found near structures in t...   \n",
              "115  <ul>\\n<li>Atlantic cod live near the ocean flo...   \n",
              "\n",
              "                                       Habitat Impacts  \\\n",
              "0    Bottomfish fishing operations, typically using...   \n",
              "1    Area closures and gear restrictions protect ha...   \n",
              "2    Area closures and gear restrictions protect ha...   \n",
              "3    Fishing gears used to harvest shortfin squid h...   \n",
              "4    Fishing gears used to harvest American lobster...   \n",
              "..                                                 ...   \n",
              "111  The Alaska pollock fishery uses midwater trawl...   \n",
              "112  Area closures and gear restrictions protect ha...   \n",
              "113  Fishing gear used to catch mahi mahi rarely co...   \n",
              "114  Fishing gear used to catch cobia rarely contac...   \n",
              "115  Area closures and gear restrictions protect ha...   \n",
              "\n",
              "                                         Image Gallery  \\\n",
              "0    [{'src': 'https://origin-east-01-drupal-fishwa...   \n",
              "1    [{'src': 'https://origin-east-01-drupal-fishwa...   \n",
              "2    [{'src': 'https://origin-east-01-drupal-fishwa...   \n",
              "3                                                 None   \n",
              "4    [{'src': 'https://origin-east-01-drupal-fishwa...   \n",
              "..                                                 ...   \n",
              "111  [{'src': 'https://origin-east-01-drupal-fishwa...   \n",
              "112  [{'src': 'https://origin-east-01-drupal-fishwa...   \n",
              "113  [{'src': 'https://origin-east-01-drupal-fishwa...   \n",
              "114  [{'src': 'https://origin-east-01-drupal-fishwa...   \n",
              "115  [{'src': 'https://origin-east-01-drupal-fishwa...   \n",
              "\n",
              "                                              Location Management  \\\n",
              "0    <ul>\\n<li>Crimson jobfish are distributed thro...       None   \n",
              "1    <ul>\\n<li>White hake are found in the northwes...       None   \n",
              "2    <ul>\\n<li>Atlantic chub mackerel in the wester...       None   \n",
              "3    <ul>\\n<li>Shortfin squid inhabits the continen...       None   \n",
              "4    <ul>\\n<li>American lobsters are found in the n...       None   \n",
              "..                                                 ...        ...   \n",
              "111  <ul>\\n<li>Alaska pollock are found throughout ...       None   \n",
              "112  <ul>\\n<li>Monkfish are found in the Northwest ...       None   \n",
              "113  <ul>\\n<li>Mahi mahi are found in the Atlantic,...       None   \n",
              "114  <ul>\\n<li>In U.S. waters, cobia are most abund...       None   \n",
              "115  <ul>\\n<li>In the Northwest Atlantic, cod range...       None   \n",
              "\n",
              "           NOAA Fisheries Region  \\\n",
              "0                Pacific Islands   \n",
              "1               Greater Atlantic   \n",
              "2               Greater Atlantic   \n",
              "3               Greater Atlantic   \n",
              "4               Greater Atlantic   \n",
              "..                           ...   \n",
              "111                       Alaska   \n",
              "112  Greater Atlantic, Southeast   \n",
              "113  Greater Atlantic, Southeast   \n",
              "114  Greater Atlantic, Southeast   \n",
              "115             Greater Atlantic   \n",
              "\n",
              "                                            Population  \\\n",
              "0    The population level is unknown, but the stock...   \n",
              "1    Significantly below target population level. A...   \n",
              "2     The stock has never been assessed. The popula...   \n",
              "3    The population level is unknown. The species h...   \n",
              "4    Above target population levels in the Gulf of ...   \n",
              "..                                                 ...   \n",
              "111  Above target population levels for the Aleutia...   \n",
              "112                    Above target population levels.   \n",
              "113                    Above target population levels.   \n",
              "114  Below target level but fishing rate promotes p...   \n",
              "115  Significantly below target population levels. ...   \n",
              "\n",
              "                                     Population Status  \\\n",
              "0    <ul>\\n<li>There are five stocks of crimson job...   \n",
              "1    <ul>\\n<li>According to the 2019 stock assessme...   \n",
              "2    <p>Atlantic chub mackerel has never been asses...   \n",
              "3    <ul>\\n<li>According to the latest assessment (...   \n",
              "4    <ul>\\n<li>According to the 2020&nbsp;<a href=\"...   \n",
              "..                                                 ...   \n",
              "111  <ul>\\n<li>There are five stocks of walleye pol...   \n",
              "112  <ul>\\n<li>There are two stocks of monkfish: Gu...   \n",
              "113  <ul>\\n<li>Scientists assume populations are ab...   \n",
              "114  <ul>\\n<li>\\n<p>According to the 2020 stock ass...   \n",
              "115  <ul>\\n<li>Gulf of Maine stock:\\n<ul>\\n<li>Acco...   \n",
              "\n",
              "                 Scientific Name  ...  Selenium Serving Weight Servings  \\\n",
              "0    Pristipomoides filamentosus  ...  38.2 mcg    100 g (raw)        1   \n",
              "1               Urophycis tenuis  ...  32.1 mcg    100 g (raw)        1   \n",
              "2                 Scomber colias  ...  44.1 mcg    100 g (raw)        1   \n",
              "3             Illex illecebrosus  ...  44.8 mcg          100 g        1   \n",
              "4             Homarus americanus  ...  41.4 mcg    100 g (raw)        1   \n",
              "..                           ...  ...       ...            ...      ...   \n",
              "111          Gadus chalcogrammus  ...  21.9 mcg    100 g (raw)        1   \n",
              "112           Lophius americanus  ...  36.5 mcg    100 g (raw)        1   \n",
              "113          Coryphaena hippurus  ...  36.5 mcg    100 g (raw)        1   \n",
              "114         Rachycentron canadum  ...  36.5 mcg    100 g (raw)        1   \n",
              "115                 Gadus morhua  ...  33.1 mcg          100 g        1   \n",
              "\n",
              "     Sodium                                             Source Sugars, Total  \\\n",
              "0     64 mg  <p>U.S -wild caught around Hawaii and Pacific ...           0 g   \n",
              "1     72 mg  <p>White hake is wild-caught from Maine to sou...           0 g   \n",
              "2     90 mg  <p>U.S. wild caught from Southern New England ...           0 g   \n",
              "3     44 mg  <p>U.S. wild-caught from Maine to North Caroli...           0 g   \n",
              "4    296 mg  <p>U.S. wild-caught from Maine to North Caroli...           0 g   \n",
              "..      ...                                                ...           ...   \n",
              "111   99 mg  <p>U.S. wild-caught, mainly in the Bering Sea ...           0 g   \n",
              "112   18 mg  <p>U.S. wild-caught from Maine to North Caroli...           0 g   \n",
              "113   88 mg  <p>Wild-caught from Massachusetts to Texas.</p>\\n           0 g   \n",
              "114  135 mg  <p>Wild-caught from Virginia to Texas. Cobia i...           0 g   \n",
              "115   54 mg       <p>Wild-caught from Maine to Virginia.</p>\\n           0 g   \n",
              "\n",
              "                                                 Taste  \\\n",
              "0      <p>Crimson jobfish has a delicate flavor.</p>\\n   \n",
              "1    <p>White hake has a mild, almost sweet&nbsp;ta...   \n",
              "2                    <p>Rich, pronounced flavor.</p>\\n   \n",
              "3      <p>Mild, and subtly sweet.</p>\\n<p>&nbsp;</p>\\n   \n",
              "4                             <p>Mild and sweet.</p>\\n   \n",
              "..                                                 ...   \n",
              "111  <p>Pollock has mild-tasting flesh and is simil...   \n",
              "112                                     <p>Mild.</p>\\n   \n",
              "113  <p>Mahi mahi has a sweet, mild flavor. For a m...   \n",
              "114           <p>Cobia has a sweet, rich flavor.</p>\\n   \n",
              "115  <p>Atlantic cod has a mild clean flavor. It is...   \n",
              "\n",
              "                                               Texture  \\\n",
              "0    <p>Crimson jobfish has&nbsp;a firm texture and...   \n",
              "1    <p>White hake has a soft, delicate texture tha...   \n",
              "2                     <p>Soft, flaky, and moist.</p>\\n   \n",
              "3                             <p>Firm and meaty.</p>\\n   \n",
              "4    <p>The meat is firm and somewhat fibrous. The ...   \n",
              "..                                                 ...   \n",
              "111  <p>Pollock has a relatively fine texture and i...   \n",
              "112  <p>The tail meat is firm, dense, and relativel...   \n",
              "113  <p>Mahi mahi is lean and fairly firm with larg...   \n",
              "114  <p>Cobia is lean, moist, and firm with a nice ...   \n",
              "115  <p>Cod has large flakes. It's less firm than h...   \n",
              "\n",
              "                                 Path         last_update  \n",
              "0           /profiles/crimson-jobfish  06/21/2022 - 12:00  \n",
              "1                /profiles/white-hake  03/24/2022 - 10:36  \n",
              "2    /profiles/atlantic-chub-mackerel  08/11/2022 - 16:16  \n",
              "3            /profiles/shortfin-squid  09/02/2022 - 11:08  \n",
              "4          /profiles/american-lobster  01/07/2022 - 10:44  \n",
              "..                                ...                 ...  \n",
              "111          /profiles/alaska-pollock  08/24/2021 - 17:44  \n",
              "112                /profiles/monkfish  08/10/2022 - 17:32  \n",
              "113      /profiles/atlantic-mahi-mahi  08/03/2022 - 16:19  \n",
              "114                   /profiles/cobia  02/17/2022 - 11:28  \n",
              "115            /profiles/atlantic-cod  02/17/2022 - 12:56  \n",
              "\n",
              "[116 rows x 56 columns]"
            ],
            "text/html": [
              "\n",
              "  <div id=\"df-3b5cb870-bcf2-4f3e-8a25-1182c8907291\">\n",
              "    <div class=\"colab-df-container\">\n",
              "      <div>\n",
              "<style scoped>\n",
              "    .dataframe tbody tr th:only-of-type {\n",
              "        vertical-align: middle;\n",
              "    }\n",
              "\n",
              "    .dataframe tbody tr th {\n",
              "        vertical-align: top;\n",
              "    }\n",
              "\n",
              "    .dataframe thead th {\n",
              "        text-align: right;\n",
              "    }\n",
              "</style>\n",
              "<table border=\"1\" class=\"dataframe\">\n",
              "  <thead>\n",
              "    <tr style=\"text-align: right;\">\n",
              "      <th></th>\n",
              "      <th>Fishery Management</th>\n",
              "      <th>Habitat</th>\n",
              "      <th>Habitat Impacts</th>\n",
              "      <th>Image Gallery</th>\n",
              "      <th>Location</th>\n",
              "      <th>Management</th>\n",
              "      <th>NOAA Fisheries Region</th>\n",
              "      <th>Population</th>\n",
              "      <th>Population Status</th>\n",
              "      <th>Scientific Name</th>\n",
              "      <th>...</th>\n",
              "      <th>Selenium</th>\n",
              "      <th>Serving Weight</th>\n",
              "      <th>Servings</th>\n",
              "      <th>Sodium</th>\n",
              "      <th>Source</th>\n",
              "      <th>Sugars, Total</th>\n",
              "      <th>Taste</th>\n",
              "      <th>Texture</th>\n",
              "      <th>Path</th>\n",
              "      <th>last_update</th>\n",
              "    </tr>\n",
              "  </thead>\n",
              "  <tbody>\n",
              "    <tr>\n",
              "      <th>0</th>\n",
              "      <td>&lt;ul&gt;\\n&lt;li&gt;&lt;a href=\"https://www.fisheries.noaa....</td>\n",
              "      <td>None</td>\n",
              "      <td>Bottomfish fishing operations, typically using...</td>\n",
              "      <td>[{'src': 'https://origin-east-01-drupal-fishwa...</td>\n",
              "      <td>&lt;ul&gt;\\n&lt;li&gt;Crimson jobfish are distributed thro...</td>\n",
              "      <td>None</td>\n",
              "      <td>Pacific Islands</td>\n",
              "      <td>The population level is unknown, but the stock...</td>\n",
              "      <td>&lt;ul&gt;\\n&lt;li&gt;There are five stocks of crimson job...</td>\n",
              "      <td>Pristipomoides filamentosus</td>\n",
              "      <td>...</td>\n",
              "      <td>38.2 mcg</td>\n",
              "      <td>100 g (raw)</td>\n",
              "      <td>1</td>\n",
              "      <td>64 mg</td>\n",
              "      <td>&lt;p&gt;U.S -wild caught around Hawaii and Pacific ...</td>\n",
              "      <td>0 g</td>\n",
              "      <td>&lt;p&gt;Crimson jobfish has a delicate flavor.&lt;/p&gt;\\n</td>\n",
              "      <td>&lt;p&gt;Crimson jobfish has&amp;nbsp;a firm texture and...</td>\n",
              "      <td>/profiles/crimson-jobfish</td>\n",
              "      <td>06/21/2022 - 12:00</td>\n",
              "    </tr>\n",
              "    <tr>\n",
              "      <th>1</th>\n",
              "      <td>&lt;ul&gt;\\n&lt;li&gt;&lt;a href=\"https://www.fisheries.noaa....</td>\n",
              "      <td>&lt;ul&gt;\\n&lt;li&gt;White hake are groundfish, meaning t...</td>\n",
              "      <td>Area closures and gear restrictions protect ha...</td>\n",
              "      <td>[{'src': 'https://origin-east-01-drupal-fishwa...</td>\n",
              "      <td>&lt;ul&gt;\\n&lt;li&gt;White hake are found in the northwes...</td>\n",
              "      <td>None</td>\n",
              "      <td>Greater Atlantic</td>\n",
              "      <td>Significantly below target population level. A...</td>\n",
              "      <td>&lt;ul&gt;\\n&lt;li&gt;According to the 2019 stock assessme...</td>\n",
              "      <td>Urophycis tenuis</td>\n",
              "      <td>...</td>\n",
              "      <td>32.1 mcg</td>\n",
              "      <td>100 g (raw)</td>\n",
              "      <td>1</td>\n",
              "      <td>72 mg</td>\n",
              "      <td>&lt;p&gt;White hake is wild-caught from Maine to sou...</td>\n",
              "      <td>0 g</td>\n",
              "      <td>&lt;p&gt;White hake has a mild, almost sweet&amp;nbsp;ta...</td>\n",
              "      <td>&lt;p&gt;White hake has a soft, delicate texture tha...</td>\n",
              "      <td>/profiles/white-hake</td>\n",
              "      <td>03/24/2022 - 10:36</td>\n",
              "    </tr>\n",
              "    <tr>\n",
              "      <th>2</th>\n",
              "      <td>&lt;ul&gt;\\n&lt;li&gt;\\n&lt;p&gt;&lt;a href=\"https://archive.fisher...</td>\n",
              "      <td>&lt;ul&gt;\\n&lt;li&gt;Atlantic chub mackerel are a schooli...</td>\n",
              "      <td>Area closures and gear restrictions protect ha...</td>\n",
              "      <td>[{'src': 'https://origin-east-01-drupal-fishwa...</td>\n",
              "      <td>&lt;ul&gt;\\n&lt;li&gt;Atlantic chub mackerel in the wester...</td>\n",
              "      <td>None</td>\n",
              "      <td>Greater Atlantic</td>\n",
              "      <td>The stock has never been assessed. The popula...</td>\n",
              "      <td>&lt;p&gt;Atlantic chub mackerel has never been asses...</td>\n",
              "      <td>Scomber colias</td>\n",
              "      <td>...</td>\n",
              "      <td>44.1 mcg</td>\n",
              "      <td>100 g (raw)</td>\n",
              "      <td>1</td>\n",
              "      <td>90 mg</td>\n",
              "      <td>&lt;p&gt;U.S. wild caught from Southern New England ...</td>\n",
              "      <td>0 g</td>\n",
              "      <td>&lt;p&gt;Rich, pronounced flavor.&lt;/p&gt;\\n</td>\n",
              "      <td>&lt;p&gt;Soft, flaky, and moist.&lt;/p&gt;\\n</td>\n",
              "      <td>/profiles/atlantic-chub-mackerel</td>\n",
              "      <td>08/11/2022 - 16:16</td>\n",
              "    </tr>\n",
              "    <tr>\n",
              "      <th>3</th>\n",
              "      <td>&lt;ul&gt;\\n&lt;li&gt;&lt;a href=\"https://www.fisheries.noaa....</td>\n",
              "      <td>&lt;ul&gt;\\n&lt;li&gt;Shortfin squid live in deep and shal...</td>\n",
              "      <td>Fishing gears used to harvest shortfin squid h...</td>\n",
              "      <td>None</td>\n",
              "      <td>&lt;ul&gt;\\n&lt;li&gt;Shortfin squid inhabits the continen...</td>\n",
              "      <td>None</td>\n",
              "      <td>Greater Atlantic</td>\n",
              "      <td>The population level is unknown. The species h...</td>\n",
              "      <td>&lt;ul&gt;\\n&lt;li&gt;According to the latest assessment (...</td>\n",
              "      <td>Illex illecebrosus</td>\n",
              "      <td>...</td>\n",
              "      <td>44.8 mcg</td>\n",
              "      <td>100 g</td>\n",
              "      <td>1</td>\n",
              "      <td>44 mg</td>\n",
              "      <td>&lt;p&gt;U.S. wild-caught from Maine to North Caroli...</td>\n",
              "      <td>0 g</td>\n",
              "      <td>&lt;p&gt;Mild, and subtly sweet.&lt;/p&gt;\\n&lt;p&gt;&amp;nbsp;&lt;/p&gt;\\n</td>\n",
              "      <td>&lt;p&gt;Firm and meaty.&lt;/p&gt;\\n</td>\n",
              "      <td>/profiles/shortfin-squid</td>\n",
              "      <td>09/02/2022 - 11:08</td>\n",
              "    </tr>\n",
              "    <tr>\n",
              "      <th>4</th>\n",
              "      <td>&lt;ul&gt;\\n&lt;li&gt;The states and &lt;a href=\"https://www....</td>\n",
              "      <td>&lt;ul&gt;\\n&lt;li&gt;American lobsters live on the ocean ...</td>\n",
              "      <td>Fishing gears used to harvest American lobster...</td>\n",
              "      <td>[{'src': 'https://origin-east-01-drupal-fishwa...</td>\n",
              "      <td>&lt;ul&gt;\\n&lt;li&gt;American lobsters are found in the n...</td>\n",
              "      <td>None</td>\n",
              "      <td>Greater Atlantic</td>\n",
              "      <td>Above target population levels in the Gulf of ...</td>\n",
              "      <td>&lt;ul&gt;\\n&lt;li&gt;According to the 2020&amp;nbsp;&lt;a href=\"...</td>\n",
              "      <td>Homarus americanus</td>\n",
              "      <td>...</td>\n",
              "      <td>41.4 mcg</td>\n",
              "      <td>100 g (raw)</td>\n",
              "      <td>1</td>\n",
              "      <td>296 mg</td>\n",
              "      <td>&lt;p&gt;U.S. wild-caught from Maine to North Caroli...</td>\n",
              "      <td>0 g</td>\n",
              "      <td>&lt;p&gt;Mild and sweet.&lt;/p&gt;\\n</td>\n",
              "      <td>&lt;p&gt;The meat is firm and somewhat fibrous. The ...</td>\n",
              "      <td>/profiles/american-lobster</td>\n",
              "      <td>01/07/2022 - 10:44</td>\n",
              "    </tr>\n",
              "    <tr>\n",
              "      <th>...</th>\n",
              "      <td>...</td>\n",
              "      <td>...</td>\n",
              "      <td>...</td>\n",
              "      <td>...</td>\n",
              "      <td>...</td>\n",
              "      <td>...</td>\n",
              "      <td>...</td>\n",
              "      <td>...</td>\n",
              "      <td>...</td>\n",
              "      <td>...</td>\n",
              "      <td>...</td>\n",
              "      <td>...</td>\n",
              "      <td>...</td>\n",
              "      <td>...</td>\n",
              "      <td>...</td>\n",
              "      <td>...</td>\n",
              "      <td>...</td>\n",
              "      <td>...</td>\n",
              "      <td>...</td>\n",
              "      <td>...</td>\n",
              "      <td>...</td>\n",
              "    </tr>\n",
              "    <tr>\n",
              "      <th>111</th>\n",
              "      <td>&lt;ul&gt;\\n&lt;li&gt;&lt;a href=\"https://www.fisheries.noaa....</td>\n",
              "      <td>&lt;ul&gt;\\n&lt;li&gt;Younger pollock live in the mid-wate...</td>\n",
              "      <td>The Alaska pollock fishery uses midwater trawl...</td>\n",
              "      <td>[{'src': 'https://origin-east-01-drupal-fishwa...</td>\n",
              "      <td>&lt;ul&gt;\\n&lt;li&gt;Alaska pollock are found throughout ...</td>\n",
              "      <td>None</td>\n",
              "      <td>Alaska</td>\n",
              "      <td>Above target population levels for the Aleutia...</td>\n",
              "      <td>&lt;ul&gt;\\n&lt;li&gt;There are five stocks of walleye pol...</td>\n",
              "      <td>Gadus chalcogrammus</td>\n",
              "      <td>...</td>\n",
              "      <td>21.9 mcg</td>\n",
              "      <td>100 g (raw)</td>\n",
              "      <td>1</td>\n",
              "      <td>99 mg</td>\n",
              "      <td>&lt;p&gt;U.S. wild-caught, mainly in the Bering Sea ...</td>\n",
              "      <td>0 g</td>\n",
              "      <td>&lt;p&gt;Pollock has mild-tasting flesh and is simil...</td>\n",
              "      <td>&lt;p&gt;Pollock has a relatively fine texture and i...</td>\n",
              "      <td>/profiles/alaska-pollock</td>\n",
              "      <td>08/24/2021 - 17:44</td>\n",
              "    </tr>\n",
              "    <tr>\n",
              "      <th>112</th>\n",
              "      <td>&lt;ul&gt;\\n&lt;li&gt;&lt;a href=\"https://www.greateratlantic...</td>\n",
              "      <td>&lt;ul&gt;\\n&lt;li&gt;Monkfish live on the ocean floor, ty...</td>\n",
              "      <td>Area closures and gear restrictions protect ha...</td>\n",
              "      <td>[{'src': 'https://origin-east-01-drupal-fishwa...</td>\n",
              "      <td>&lt;ul&gt;\\n&lt;li&gt;Monkfish are found in the Northwest ...</td>\n",
              "      <td>None</td>\n",
              "      <td>Greater Atlantic, Southeast</td>\n",
              "      <td>Above target population levels.</td>\n",
              "      <td>&lt;ul&gt;\\n&lt;li&gt;There are two stocks of monkfish: Gu...</td>\n",
              "      <td>Lophius americanus</td>\n",
              "      <td>...</td>\n",
              "      <td>36.5 mcg</td>\n",
              "      <td>100 g (raw)</td>\n",
              "      <td>1</td>\n",
              "      <td>18 mg</td>\n",
              "      <td>&lt;p&gt;U.S. wild-caught from Maine to North Caroli...</td>\n",
              "      <td>0 g</td>\n",
              "      <td>&lt;p&gt;Mild.&lt;/p&gt;\\n</td>\n",
              "      <td>&lt;p&gt;The tail meat is firm, dense, and relativel...</td>\n",
              "      <td>/profiles/monkfish</td>\n",
              "      <td>08/10/2022 - 17:32</td>\n",
              "    </tr>\n",
              "    <tr>\n",
              "      <th>113</th>\n",
              "      <td>&lt;ul&gt;\\n&lt;li&gt;&lt;a href=\"http://sero.nmfs.noaa.gov/\"...</td>\n",
              "      <td>&lt;ul&gt;\\n&lt;li&gt;Mahi mahi live near the surface in t...</td>\n",
              "      <td>Fishing gear used to catch mahi mahi rarely co...</td>\n",
              "      <td>[{'src': 'https://origin-east-01-drupal-fishwa...</td>\n",
              "      <td>&lt;ul&gt;\\n&lt;li&gt;Mahi mahi are found in the Atlantic,...</td>\n",
              "      <td>None</td>\n",
              "      <td>Greater Atlantic, Southeast</td>\n",
              "      <td>Above target population levels.</td>\n",
              "      <td>&lt;ul&gt;\\n&lt;li&gt;Scientists assume populations are ab...</td>\n",
              "      <td>Coryphaena hippurus</td>\n",
              "      <td>...</td>\n",
              "      <td>36.5 mcg</td>\n",
              "      <td>100 g (raw)</td>\n",
              "      <td>1</td>\n",
              "      <td>88 mg</td>\n",
              "      <td>&lt;p&gt;Wild-caught from Massachusetts to Texas.&lt;/p&gt;\\n</td>\n",
              "      <td>0 g</td>\n",
              "      <td>&lt;p&gt;Mahi mahi has a sweet, mild flavor. For a m...</td>\n",
              "      <td>&lt;p&gt;Mahi mahi is lean and fairly firm with larg...</td>\n",
              "      <td>/profiles/atlantic-mahi-mahi</td>\n",
              "      <td>08/03/2022 - 16:19</td>\n",
              "    </tr>\n",
              "    <tr>\n",
              "      <th>114</th>\n",
              "      <td>&lt;ul&gt;\\n&lt;li&gt;&lt;a href=\"https://sero.nmfs.noaa.gov/...</td>\n",
              "      <td>&lt;ul&gt;\\n&lt;li&gt;Cobia are found near structures in t...</td>\n",
              "      <td>Fishing gear used to catch cobia rarely contac...</td>\n",
              "      <td>[{'src': 'https://origin-east-01-drupal-fishwa...</td>\n",
              "      <td>&lt;ul&gt;\\n&lt;li&gt;In U.S. waters, cobia are most abund...</td>\n",
              "      <td>None</td>\n",
              "      <td>Greater Atlantic, Southeast</td>\n",
              "      <td>Below target level but fishing rate promotes p...</td>\n",
              "      <td>&lt;ul&gt;\\n&lt;li&gt;\\n&lt;p&gt;According to the 2020 stock ass...</td>\n",
              "      <td>Rachycentron canadum</td>\n",
              "      <td>...</td>\n",
              "      <td>36.5 mcg</td>\n",
              "      <td>100 g (raw)</td>\n",
              "      <td>1</td>\n",
              "      <td>135 mg</td>\n",
              "      <td>&lt;p&gt;Wild-caught from Virginia to Texas. Cobia i...</td>\n",
              "      <td>0 g</td>\n",
              "      <td>&lt;p&gt;Cobia has a sweet, rich flavor.&lt;/p&gt;\\n</td>\n",
              "      <td>&lt;p&gt;Cobia is lean, moist, and firm with a nice ...</td>\n",
              "      <td>/profiles/cobia</td>\n",
              "      <td>02/17/2022 - 11:28</td>\n",
              "    </tr>\n",
              "    <tr>\n",
              "      <th>115</th>\n",
              "      <td>&lt;ul&gt;\\n&lt;li&gt;There are two stocks of Atlantic cod...</td>\n",
              "      <td>&lt;ul&gt;\\n&lt;li&gt;Atlantic cod live near the ocean flo...</td>\n",
              "      <td>Area closures and gear restrictions protect ha...</td>\n",
              "      <td>[{'src': 'https://origin-east-01-drupal-fishwa...</td>\n",
              "      <td>&lt;ul&gt;\\n&lt;li&gt;In the Northwest Atlantic, cod range...</td>\n",
              "      <td>None</td>\n",
              "      <td>Greater Atlantic</td>\n",
              "      <td>Significantly below target population levels. ...</td>\n",
              "      <td>&lt;ul&gt;\\n&lt;li&gt;Gulf of Maine stock:\\n&lt;ul&gt;\\n&lt;li&gt;Acco...</td>\n",
              "      <td>Gadus morhua</td>\n",
              "      <td>...</td>\n",
              "      <td>33.1 mcg</td>\n",
              "      <td>100 g</td>\n",
              "      <td>1</td>\n",
              "      <td>54 mg</td>\n",
              "      <td>&lt;p&gt;Wild-caught from Maine to Virginia.&lt;/p&gt;\\n</td>\n",
              "      <td>0 g</td>\n",
              "      <td>&lt;p&gt;Atlantic cod has a mild clean flavor. It is...</td>\n",
              "      <td>&lt;p&gt;Cod has large flakes. It's less firm than h...</td>\n",
              "      <td>/profiles/atlantic-cod</td>\n",
              "      <td>02/17/2022 - 12:56</td>\n",
              "    </tr>\n",
              "  </tbody>\n",
              "</table>\n",
              "<p>116 rows × 56 columns</p>\n",
              "</div>\n",
              "      <button class=\"colab-df-convert\" onclick=\"convertToInteractive('df-3b5cb870-bcf2-4f3e-8a25-1182c8907291')\"\n",
              "              title=\"Convert this dataframe to an interactive table.\"\n",
              "              style=\"display:none;\">\n",
              "        \n",
              "  <svg xmlns=\"http://www.w3.org/2000/svg\" height=\"24px\"viewBox=\"0 0 24 24\"\n",
              "       width=\"24px\">\n",
              "    <path d=\"M0 0h24v24H0V0z\" fill=\"none\"/>\n",
              "    <path d=\"M18.56 5.44l.94 2.06.94-2.06 2.06-.94-2.06-.94-.94-2.06-.94 2.06-2.06.94zm-11 1L8.5 8.5l.94-2.06 2.06-.94-2.06-.94L8.5 2.5l-.94 2.06-2.06.94zm10 10l.94 2.06.94-2.06 2.06-.94-2.06-.94-.94-2.06-.94 2.06-2.06.94z\"/><path d=\"M17.41 7.96l-1.37-1.37c-.4-.4-.92-.59-1.43-.59-.52 0-1.04.2-1.43.59L10.3 9.45l-7.72 7.72c-.78.78-.78 2.05 0 2.83L4 21.41c.39.39.9.59 1.41.59.51 0 1.02-.2 1.41-.59l7.78-7.78 2.81-2.81c.8-.78.8-2.07 0-2.86zM5.41 20L4 18.59l7.72-7.72 1.47 1.35L5.41 20z\"/>\n",
              "  </svg>\n",
              "      </button>\n",
              "      \n",
              "  <style>\n",
              "    .colab-df-container {\n",
              "      display:flex;\n",
              "      flex-wrap:wrap;\n",
              "      gap: 12px;\n",
              "    }\n",
              "\n",
              "    .colab-df-convert {\n",
              "      background-color: #E8F0FE;\n",
              "      border: none;\n",
              "      border-radius: 50%;\n",
              "      cursor: pointer;\n",
              "      display: none;\n",
              "      fill: #1967D2;\n",
              "      height: 32px;\n",
              "      padding: 0 0 0 0;\n",
              "      width: 32px;\n",
              "    }\n",
              "\n",
              "    .colab-df-convert:hover {\n",
              "      background-color: #E2EBFA;\n",
              "      box-shadow: 0px 1px 2px rgba(60, 64, 67, 0.3), 0px 1px 3px 1px rgba(60, 64, 67, 0.15);\n",
              "      fill: #174EA6;\n",
              "    }\n",
              "\n",
              "    [theme=dark] .colab-df-convert {\n",
              "      background-color: #3B4455;\n",
              "      fill: #D2E3FC;\n",
              "    }\n",
              "\n",
              "    [theme=dark] .colab-df-convert:hover {\n",
              "      background-color: #434B5C;\n",
              "      box-shadow: 0px 1px 3px 1px rgba(0, 0, 0, 0.15);\n",
              "      filter: drop-shadow(0px 1px 2px rgba(0, 0, 0, 0.3));\n",
              "      fill: #FFFFFF;\n",
              "    }\n",
              "  </style>\n",
              "\n",
              "      <script>\n",
              "        const buttonEl =\n",
              "          document.querySelector('#df-3b5cb870-bcf2-4f3e-8a25-1182c8907291 button.colab-df-convert');\n",
              "        buttonEl.style.display =\n",
              "          google.colab.kernel.accessAllowed ? 'block' : 'none';\n",
              "\n",
              "        async function convertToInteractive(key) {\n",
              "          const element = document.querySelector('#df-3b5cb870-bcf2-4f3e-8a25-1182c8907291');\n",
              "          const dataTable =\n",
              "            await google.colab.kernel.invokeFunction('convertToInteractive',\n",
              "                                                     [key], {});\n",
              "          if (!dataTable) return;\n",
              "\n",
              "          const docLinkHtml = 'Like what you see? Visit the ' +\n",
              "            '<a target=\"_blank\" href=https://colab.research.google.com/notebooks/data_table.ipynb>data table notebook</a>'\n",
              "            + ' to learn more about interactive tables.';\n",
              "          element.innerHTML = '';\n",
              "          dataTable['output_type'] = 'display_data';\n",
              "          await google.colab.output.renderOutput(dataTable, element);\n",
              "          const docLink = document.createElement('div');\n",
              "          docLink.innerHTML = docLinkHtml;\n",
              "          element.appendChild(docLink);\n",
              "        }\n",
              "      </script>\n",
              "    </div>\n",
              "  </div>\n",
              "  "
            ]
          },
          "metadata": {},
          "execution_count": 81
        }
      ]
    }
  ]
}